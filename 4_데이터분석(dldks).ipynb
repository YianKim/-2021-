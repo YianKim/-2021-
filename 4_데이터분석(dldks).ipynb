{
  "nbformat": 4,
  "nbformat_minor": 0,
  "metadata": {
    "colab": {
      "name": "4. 데이터분석(dldks).ipynb",
      "provenance": [],
      "collapsed_sections": [],
      "authorship_tag": "ABX9TyPBQ9RWPII9BBUSGEjqaKEb",
      "include_colab_link": true
    },
    "kernelspec": {
      "name": "python3",
      "display_name": "Python 3"
    },
    "language_info": {
      "name": "python"
    }
  },
  "cells": [
    {
      "cell_type": "markdown",
      "metadata": {
        "id": "view-in-github",
        "colab_type": "text"
      },
      "source": [
        "<a href=\"https://colab.research.google.com/github/YianKim/Complaints-NLP-Visualization-2021/blob/main/4_%EB%8D%B0%EC%9D%B4%ED%84%B0%EB%B6%84%EC%84%9D(dldks).ipynb\" target=\"_parent\"><img src=\"https://colab.research.google.com/assets/colab-badge.svg\" alt=\"Open In Colab\"/></a>"
      ]
    },
    {
      "cell_type": "code",
      "metadata": {
        "id": "kw-frxHUub6S"
      },
      "source": [
        "from tqdm import tqdm_notebook #process bar\n",
        "import string #특수문자를 클리닝에서 제거해주고 싶을 때 사용하려고 특수문자를 불러온다. \n",
        "import warnings #warning 제거\n",
        "\n",
        "from gensim import corpora\n",
        "from gensim import models\n",
        "import numpy as np\n",
        "import re\n",
        "import gzip\n",
        "import pickle\n",
        "import matplotlib.pyplot as  plt\n",
        "from wordcloud import WordCloud\n",
        "%matplotlib inline\n",
        "warnings.filterwarnings(\"ignore\", category=DeprecationWarning) # 경고 알림이 뜨면 모두 무시"
      ],
      "execution_count": 50,
      "outputs": []
    },
    {
      "cell_type": "code",
      "metadata": {
        "colab": {
          "base_uri": "https://localhost:8080/"
        },
        "id": "zXbGu2q1ujR4",
        "outputId": "f0ee1aa4-649d-45f6-ce0c-37c37df22bc0"
      },
      "source": [
        "from google.colab import drive\n",
        "drive.mount('/content/drive')"
      ],
      "execution_count": 51,
      "outputs": [
        {
          "output_type": "stream",
          "name": "stdout",
          "text": [
            "Drive already mounted at /content/drive; to attempt to forcibly remount, call drive.mount(\"/content/drive\", force_remount=True).\n"
          ]
        }
      ]
    },
    {
      "cell_type": "code",
      "metadata": {
        "colab": {
          "base_uri": "https://localhost:8080/"
        },
        "id": "eHDq7td3ul6m",
        "outputId": "2a9b1c49-19e0-4ea5-e345-0cfe9e883aa5"
      },
      "source": [
        "# 제목하고 내용이 list로 받아졌을 때, 중복되지 않는 원소만 편입\n",
        "def merge제목내용(제목, 내용):\n",
        "  temp = []\n",
        "  temp += list(내용)\n",
        "  for i in 제목:\n",
        "    if i not in 내용:\n",
        "      temp.append(i)\n",
        "  return(temp)\n",
        "\n",
        "merge제목내용([\"A\",\"B\",\"DDD\"],[\"A\",\"CD\"]) #['A', 'CD', 'B', 'DDD']"
      ],
      "execution_count": 52,
      "outputs": [
        {
          "output_type": "execute_result",
          "data": {
            "text/plain": [
              "['A', 'CD', 'B', 'DDD']"
            ]
          },
          "metadata": {},
          "execution_count": 52
        }
      ]
    },
    {
      "cell_type": "code",
      "metadata": {
        "colab": {
          "base_uri": "https://localhost:8080/"
        },
        "id": "uhuo5Y9nvU3D",
        "outputId": "cbc66860-f430-4752-b556-b749b639a794"
      },
      "source": [
        "# 램 한계를 극복하기 위한 글자수 제한\n",
        "def 글자제한(textvec, LB, UB):\n",
        "  temp=[]\n",
        "  for i in textvec:\n",
        "    if len(i)>LB-1 and len(i)<UB+1:\n",
        "      temp.append(i)\n",
        "  return(temp)\n",
        "\n",
        "글자제한([\"A\",\"AA\",\"AAA\",\"AAAA\",\"AAAAA\",\"AAAAAA\",\"AAAAAAA\"],3,4)"
      ],
      "execution_count": 53,
      "outputs": [
        {
          "output_type": "execute_result",
          "data": {
            "text/plain": [
              "['AAA', 'AAAA']"
            ]
          },
          "metadata": {},
          "execution_count": 53
        }
      ]
    },
    {
      "cell_type": "code",
      "metadata": {
        "id": "XkZ8rCXJQlYk"
      },
      "source": [
        "# load and uncompress.\n",
        "with gzip.open('/content/drive/Shareddrives/2021민원/데이터/clean_data_twitter+correction.pickle','rb') as f:\n",
        "    data = pickle.load(f)"
      ],
      "execution_count": 54,
      "outputs": []
    },
    {
      "cell_type": "code",
      "metadata": {
        "colab": {
          "base_uri": "https://localhost:8080/",
          "height": 205
        },
        "id": "Qv8gZTHhQmT4",
        "outputId": "eb2418cd-2652-4b59-f291-2ac6181a8136"
      },
      "source": [
        "data_overtime=data.drop([\"제목\", \"질문내용\", \"답변내용\", \"최상위기관명\", \"분야명\", \"담당부서명\", \"시간\"], axis=1)\n",
        "data_overtime.head()"
      ],
      "execution_count": 55,
      "outputs": [
        {
          "output_type": "execute_result",
          "data": {
            "text/html": [
              "<div>\n",
              "<style scoped>\n",
              "    .dataframe tbody tr th:only-of-type {\n",
              "        vertical-align: middle;\n",
              "    }\n",
              "\n",
              "    .dataframe tbody tr th {\n",
              "        vertical-align: top;\n",
              "    }\n",
              "\n",
              "    .dataframe thead th {\n",
              "        text-align: right;\n",
              "    }\n",
              "</style>\n",
              "<table border=\"1\" class=\"dataframe\">\n",
              "  <thead>\n",
              "    <tr style=\"text-align: right;\">\n",
              "      <th></th>\n",
              "      <th>제목_nouns</th>\n",
              "      <th>질문내용_nouns</th>\n",
              "      <th>답변내용_nouns</th>\n",
              "      <th>연</th>\n",
              "      <th>월</th>\n",
              "      <th>일</th>\n",
              "      <th>오전오후</th>\n",
              "    </tr>\n",
              "  </thead>\n",
              "  <tbody>\n",
              "    <tr>\n",
              "      <th>0</th>\n",
              "      <td>[의성군, 귀농, 귀촌, 정책, 문의]</td>\n",
              "      <td>[의성군, 귀농, 귀촌, 정책, 문의]</td>\n",
              "      <td>[의성군, 귀농, 귀촌, 감사, 귀농, 귀촌, 지원, 정책, 설명, 앞서, 귀농, ...</td>\n",
              "      <td>2021</td>\n",
              "      <td>08</td>\n",
              "      <td>27</td>\n",
              "      <td>오후</td>\n",
              "    </tr>\n",
              "    <tr>\n",
              "      <th>1</th>\n",
              "      <td>[불법, 주정]</td>\n",
              "      <td>[불법, 주정, 과태료, 부과, 대상]</td>\n",
              "      <td>[귀하, 가정, 안함, 행복, 기원, 귀하, 국민신문고, 요청, 사항, 문화, 조성...</td>\n",
              "      <td>2021</td>\n",
              "      <td>08</td>\n",
              "      <td>27</td>\n",
              "      <td>오후</td>\n",
              "    </tr>\n",
              "    <tr>\n",
              "      <th>2</th>\n",
              "      <td>[아동, 수당, 지급, 대상]</td>\n",
              "      <td>[아동, 수당, 지급, 대상]</td>\n",
              "      <td>[안녕하십니까, 귀하, 문의, 질의, 대한, 답변, 귀하, 질의, 내용, 아동, 수...</td>\n",
              "      <td>2021</td>\n",
              "      <td>08</td>\n",
              "      <td>27</td>\n",
              "      <td>오후</td>\n",
              "    </tr>\n",
              "    <tr>\n",
              "      <th>3</th>\n",
              "      <td>[광견병, 예방, 접종, 문의]</td>\n",
              "      <td>[광견병, 예방접종, 질문, 사항, 의성군, 광견병, 접종, 예방, 계획, 신지, ...</td>\n",
              "      <td>[안녕하십니까, 귀하, 국민신문고, 통해, 신청, 민원, 대한, 검토, 귀하, 민원...</td>\n",
              "      <td>2021</td>\n",
              "      <td>08</td>\n",
              "      <td>27</td>\n",
              "      <td>오후</td>\n",
              "    </tr>\n",
              "    <tr>\n",
              "      <th>4</th>\n",
              "      <td>[아동, 수당, 지급, 금액, 지급, 일자]</td>\n",
              "      <td>[아동, 수당, 지급, 금액, 지급, 일자]</td>\n",
              "      <td>[안녕하십니까, 귀하, 문의, 질의, 대한, 답변, 귀하, 질의, 내용, 아동, 수...</td>\n",
              "      <td>2021</td>\n",
              "      <td>08</td>\n",
              "      <td>27</td>\n",
              "      <td>오후</td>\n",
              "    </tr>\n",
              "  </tbody>\n",
              "</table>\n",
              "</div>"
            ],
            "text/plain": [
              "                   제목_nouns  ... 오전오후\n",
              "0     [의성군, 귀농, 귀촌, 정책, 문의]  ...   오후\n",
              "1                  [불법, 주정]  ...   오후\n",
              "2          [아동, 수당, 지급, 대상]  ...   오후\n",
              "3         [광견병, 예방, 접종, 문의]  ...   오후\n",
              "4  [아동, 수당, 지급, 금액, 지급, 일자]  ...   오후\n",
              "\n",
              "[5 rows x 7 columns]"
            ]
          },
          "metadata": {},
          "execution_count": 55
        }
      ]
    },
    {
      "cell_type": "markdown",
      "metadata": {
        "id": "Ol__wmBhUcRr"
      },
      "source": [
        "# gensim을 이용한 토픽모델링"
      ]
    },
    {
      "cell_type": "code",
      "metadata": {
        "id": "GNHzX-xgP5OY"
      },
      "source": [
        "# 그냥 다 합쳐보기\n",
        "token_list=[]\n",
        "for i in range(57249):\n",
        "  # print(i)\n",
        "  temp = merge제목내용(data_overtime['제목_nouns'][i], data_overtime['질문내용_nouns'][i])\n",
        "  token_list.append(merge제목내용(temp, data_overtime['답변내용_nouns'][i]))"
      ],
      "execution_count": 56,
      "outputs": []
    },
    {
      "cell_type": "code",
      "metadata": {
        "id": "-AIk0yo97wDq"
      },
      "source": [
        "dictionary = corpora.Dictionary(token_list)\n",
        "# dictionary.token2id"
      ],
      "execution_count": 57,
      "outputs": []
    },
    {
      "cell_type": "code",
      "metadata": {
        "id": "ZM6XVWv478ER"
      },
      "source": [
        "term_matrix = [dictionary.doc2bow(token) for token in token_list]\n",
        "# term_matrix"
      ],
      "execution_count": 58,
      "outputs": []
    },
    {
      "cell_type": "code",
      "metadata": {
        "id": "zOyyYYkh8BfC"
      },
      "source": [
        "tfidf = models.TfidfModel(term_matrix)\n",
        "\n",
        "# for doc in tfidf[term_matrix]:\n",
        "#     print(\"doc:\")\n",
        "#     for k, v in doc:\n",
        "#         print(k, v)"
      ],
      "execution_count": 59,
      "outputs": []
    },
    {
      "cell_type": "code",
      "metadata": {
        "id": "T63bOjOBboiW"
      },
      "source": [
        "allword=[]\n",
        "for i in range(len(dictionary.token2id)):\n",
        "  allword.append((i,1))"
      ],
      "execution_count": 60,
      "outputs": []
    },
    {
      "cell_type": "code",
      "metadata": {
        "id": "krM-IF1nlCyv"
      },
      "source": [
        "weight = { name:value for name, value in zip(list(dictionary.token2id.keys()), [x[1] for x in tfidf[allword]]) }"
      ],
      "execution_count": 61,
      "outputs": []
    },
    {
      "cell_type": "code",
      "metadata": {
        "id": "-PAeNRoxlmM9"
      },
      "source": [
        "# fp='/content/drive/MyDrive/서울남산체/08SeoulNamsanB_0.ttf'\n",
        "# wordcloud = WordCloud(background_color=\"white\", max_words=100, width=4000, height=3000, font_path=fp).generate_from_frequencies(weight)\n",
        "# plt.figure()\n",
        "# plt.imshow(wordcloud, interpolation=\"bilinear\")\n",
        "# plt.axis(\"off\")\n",
        "# plt.show()"
      ],
      "execution_count": 62,
      "outputs": []
    },
    {
      "cell_type": "code",
      "metadata": {
        "colab": {
          "base_uri": "https://localhost:8080/"
        },
        "id": "ptMGQsQh8Uax",
        "outputId": "035eec84-2a45-4548-ea01-e7e14b029834"
      },
      "source": [
        "# 토픽모델링\n",
        "\n",
        "model = models.LdaModel(corpus=term_matrix, id2word=dictionary, num_topics=10)\n",
        "model.print_topics()"
      ],
      "execution_count": 69,
      "outputs": [
        {
          "output_type": "execute_result",
          "data": {
            "text/plain": [
              "[(0,\n",
              "  '0.034*\"광고\" + 0.023*\"선박\" + 0.021*\"위반\" + 0.018*\"스팸\" + 0.016*\"표시\" + 0.015*\"불법\" + 0.013*\"조치\" + 0.011*\"행위\" + 0.010*\"항만\" + 0.010*\"차량\"'),\n",
              " (1,\n",
              "  '0.015*\"기관\" + 0.013*\"시험\" + 0.011*\"수상기\" + 0.011*\"교육\" + 0.011*\"훈련\" + 0.009*\"해양수산부\" + 0.008*\"전송\" + 0.007*\"가능\" + 0.007*\"검사\" + 0.007*\"정보통신망법\"'),\n",
              " (2,\n",
              "  '0.037*\"지원\" + 0.013*\"신청\" + 0.011*\"대상\" + 0.009*\"장애인\" + 0.008*\"가능\" + 0.008*\"센터\" + 0.007*\"지급\" + 0.007*\"요금\" + 0.007*\"대상자\" + 0.006*\"상담\"'),\n",
              " (3,\n",
              "  '0.030*\"시설\" + 0.024*\"제조\" + 0.022*\"관리\" + 0.017*\"사용\" + 0.011*\"식품\" + 0.010*\"안전\" + 0.010*\"설치\" + 0.010*\"시행\" + 0.009*\"공사\" + 0.009*\"제품\"'),\n",
              " (4,\n",
              "  '0.044*\"답변\" + 0.036*\"감사\" + 0.035*\"처리\" + 0.031*\"비식\" + 0.030*\"민원\" + 0.030*\"숫자\" + 0.028*\"귀하\" + 0.025*\"내용\" + 0.025*\"대한\" + 0.024*\"사항\"'),\n",
              " (5,\n",
              "  '0.030*\"제조\" + 0.021*\"위원회\" + 0.017*\"규정\" + 0.015*\"사업자\" + 0.013*\"허가\" + 0.013*\"시행\" + 0.012*\"위원장\" + 0.011*\"법률\" + 0.011*\"사업\" + 0.009*\"사항\"'),\n",
              " (6,\n",
              "  '0.026*\"정보\" + 0.021*\"신청\" + 0.019*\"확인\" + 0.017*\"인터넷\" + 0.015*\"가능\" + 0.015*\"서비스\" + 0.012*\"홈페이지\" + 0.011*\"국내\" + 0.011*\"개인정보\" + 0.011*\"수신\"'),\n",
              " (7,\n",
              "  '0.029*\"서류\" + 0.027*\"신고\" + 0.025*\"등록\" + 0.023*\"신청\" + 0.021*\"신청서\" + 0.021*\"사업자\" + 0.018*\"변경\" + 0.014*\"사업\" + 0.013*\"처리\" + 0.013*\"확인\"'),\n",
              " (8,\n",
              "  '0.020*\"기간\" + 0.018*\"어업\" + 0.016*\"복무\" + 0.012*\"수산\" + 0.011*\"억원\" + 0.010*\"제조\" + 0.009*\"납부\" + 0.009*\"금액\" + 0.009*\"적용\" + 0.008*\"지급\"'),\n",
              " (9,\n",
              "  '0.031*\"방송\" + 0.016*\"방송통신\" + 0.009*\"계획\" + 0.008*\"위원회\" + 0.008*\"해양\" + 0.008*\"지역\" + 0.008*\"방통위\" + 0.007*\"사업\" + 0.007*\"운영\" + 0.007*\"프로그램\"')]"
            ]
          },
          "metadata": {},
          "execution_count": 69
        }
      ]
    },
    {
      "cell_type": "code",
      "metadata": {
        "colab": {
          "base_uri": "https://localhost:8080/"
        },
        "id": "GQ787hQP5jiC",
        "outputId": "e1067a90-c905-4835-9df0-0a0a04df5456"
      },
      "source": [
        "data.loc[3456]"
      ],
      "execution_count": 70,
      "outputs": [
        {
          "output_type": "execute_result",
          "data": {
            "text/plain": [
              "제목                                                 고속도로 갓길주행 전남\n",
              "제목_nouns                                     [고속도로, 갓길, 주행, 전남]\n",
              "질문내용                                            고속도로 갓길 주행하여 추월\n",
              "질문내용_nouns                                   [고속도로, 갓길, 주행, 추월]\n",
              "답변내용          민원인께서 문의하신 민원내용에 대하여 답변 드립니다 귀하의 민원취지는 고속도로 갓길...\n",
              "답변내용_nouns    [원인, 문의, 민원, 내용, 답변, 귀하, 민원, 취지, 고속도로, 갓길, 통행,...\n",
              "최상위기관명                                                      경찰청\n",
              "분야명                                                    행정/자치/안전\n",
              "담당부서명                                                       경무과\n",
              "연                                                          2021\n",
              "월                                                            08\n",
              "일                                                            25\n",
              "오전오후                                                         오후\n",
              "시간                                                      5:01:41\n",
              "Name: 3456, dtype: object"
            ]
          },
          "metadata": {},
          "execution_count": 70
        }
      ]
    },
    {
      "cell_type": "code",
      "metadata": {
        "id": "IWfzDnYl3qio",
        "colab": {
          "base_uri": "https://localhost:8080/"
        },
        "outputId": "62476f08-669c-4eda-a857-5b813ac109fb"
      },
      "source": [
        "model.get_document_topics(term_matrix[3456])"
      ],
      "execution_count": 71,
      "outputs": [
        {
          "output_type": "execute_result",
          "data": {
            "text/plain": [
              "[(0, 0.4976059), (4, 0.24920905), (6, 0.20627144), (7, 0.038088292)]"
            ]
          },
          "metadata": {},
          "execution_count": 71
        }
      ]
    },
    {
      "cell_type": "code",
      "metadata": {
        "id": "m3vrXtXGUb9o"
      },
      "source": [
        "spr_ind = np.where(data_overtime[\"월\"]==\"03\")[0].tolist()+np.where(data_overtime[\"월\"]==\"04\")[0].tolist()+np.where(data_overtime[\"월\"]==\"05\")[0].tolist()\n",
        "sum_ind = np.where(data_overtime[\"월\"]==\"06\")[0].tolist()+np.where(data_overtime[\"월\"]==\"07\")[0].tolist()+np.where(data_overtime[\"월\"]==\"08\")[0].tolist()\n",
        "aut_ind = np.where(data_overtime[\"월\"]==\"09\")[0].tolist()+np.where(data_overtime[\"월\"]==\"10\")[0].tolist()+np.where(data_overtime[\"월\"]==\"11\")[0].tolist()\n",
        "win_ind = np.where(data_overtime[\"월\"]==\"12\")[0].tolist()+np.where(data_overtime[\"월\"]==\"01\")[0].tolist()+np.where(data_overtime[\"월\"]==\"02\")[0].tolist()"
      ],
      "execution_count": null,
      "outputs": []
    },
    {
      "cell_type": "code",
      "metadata": {
        "colab": {
          "base_uri": "https://localhost:8080/",
          "height": 173
        },
        "id": "cfcnvp7d0O4X",
        "outputId": "6414466f-6050-40be-d41d-f0d3548b05a2"
      },
      "source": [
        "token_list.spr_ind"
      ],
      "execution_count": null,
      "outputs": [
        {
          "output_type": "error",
          "ename": "AttributeError",
          "evalue": "ignored",
          "traceback": [
            "\u001b[0;31m---------------------------------------------------------------------------\u001b[0m",
            "\u001b[0;31mAttributeError\u001b[0m                            Traceback (most recent call last)",
            "\u001b[0;32m<ipython-input-37-eab51ece7e6f>\u001b[0m in \u001b[0;36m<module>\u001b[0;34m()\u001b[0m\n\u001b[0;32m----> 1\u001b[0;31m \u001b[0mtoken_list\u001b[0m\u001b[0;34m.\u001b[0m\u001b[0mspr_ind\u001b[0m\u001b[0;34m\u001b[0m\u001b[0;34m\u001b[0m\u001b[0m\n\u001b[0m",
            "\u001b[0;31mAttributeError\u001b[0m: 'list' object has no attribute 'spr_ind'"
          ]
        }
      ]
    }
  ]
}