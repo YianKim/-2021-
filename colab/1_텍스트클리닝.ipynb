{
  "nbformat": 4,
  "nbformat_minor": 0,
  "metadata": {
    "colab": {
      "name": "1. 텍스트클리닝.ipynb",
      "provenance": [],
      "collapsed_sections": [],
      "include_colab_link": true
    },
    "kernelspec": {
      "name": "python3",
      "display_name": "Python 3"
    },
    "language_info": {
      "name": "python"
    }
  },
  "cells": [
    {
      "cell_type": "markdown",
      "metadata": {
        "id": "view-in-github",
        "colab_type": "text"
      },
      "source": [
        "<a href=\"https://colab.research.google.com/github/YianKim/Complaints-NLP-Visualization-2021/blob/main/1_%ED%85%8D%EC%8A%A4%ED%8A%B8%ED%81%B4%EB%A6%AC%EB%8B%9D.ipynb\" target=\"_parent\"><img src=\"https://colab.research.google.com/assets/colab-badge.svg\" alt=\"Open In Colab\"/></a>"
      ]
    },
    {
      "cell_type": "code",
      "metadata": {
        "id": "jQUVvy2Btfdm"
      },
      "source": [
        "# pip install git+https://github.com/haven-jeon/PyKoSpacing.git"
      ],
      "execution_count": null,
      "outputs": []
    },
    {
      "cell_type": "code",
      "metadata": {
        "id": "0UzmXpWN8VBT"
      },
      "source": [
        "import pandas as pd\n",
        "import re\n",
        "# from pykospacing import Spacing"
      ],
      "execution_count": null,
      "outputs": []
    },
    {
      "cell_type": "code",
      "metadata": {
        "id": "mIqZT4qG870u"
      },
      "source": [
        "data = pd.read_csv(\"/content/drive/Shareddrives/2021민원/데이터/국민권익위원회 경진 대회 데이터.csv\", encoding=\"cp949\")\n",
        "data_raw = data"
      ],
      "execution_count": null,
      "outputs": []
    },
    {
      "cell_type": "code",
      "metadata": {
        "id": "WUPIsT-GeOwU"
      },
      "source": [
        "punct = \"/-'?!.,#$%\\'()*+-/:;<=>@[\\\\]^_`{|}~\" + '\"\"“”’' + '∞θ÷α•à−β∅³π‘₹´°£€\\×™√²—–&' + 'ㆍ'\n",
        "punct_mapping = {\"‘\": \"'\", \"₹\": \"e\", \"´\": \"'\", \"°\": \"\", \"€\": \"e\", \"™\": \"tm\", \"√\": \" sqrt \", \"×\": \"x\", \"²\": \"2\", \"—\": \"-\", \"–\": \"-\", \"’\": \"'\", \"_\": \"-\", \"`\": \"'\", '“': '\"', '”': '\"', '“': '\"', \"£\": \"e\", '∞': 'infinity', 'θ': 'theta', '÷': '/', 'α': 'alpha', '•': '.', 'à': 'a', '−': '-', 'β': 'beta', '∅': '', '³': '3', 'π': 'pi', 'ㆍ':','}\n",
        "\n",
        "def clean_punc(text, punct, mapping):\n",
        "  text=str(text)\n",
        "  for p in mapping:\n",
        "    text = text.replace(p, mapping[p])\n",
        "  for p in punct:\n",
        "    text = text.replace(p, f' {p} ')\n",
        "  \n",
        "  specials = {'\\u200b': ' ', '…': ' ... ', '\\ufeff': '', 'करना': '', 'है': ''}\n",
        " \n",
        "  for s in specials:\n",
        "    text = text.replace(s, specials[s])\n",
        "  \n",
        "  return text.strip()\n",
        "\n",
        "def clean_text(texts):\n",
        "  corpus = []\n",
        "  for i in range(0, len(texts)):\n",
        "    review = re.sub(r'[@%\\\\*=()/~#&\\+á?\\xc3\\xa1\\-\\|\\.\\:\\;\\!\\-\\,\\_\\~\\$\\'\\\"]', '',str(texts[i])) #remove punctuation1\n",
        "    review = re.sub(r'[^\\w\\s]','',review) #remove punctuation2\n",
        "    review = re.sub('([ㄱ-ㅣ])+',' ',review) #remove\n",
        "    review = re.sub(r'\\d+','', review) #remove number\n",
        "    review = review.lower() #lower case\n",
        "    review = re.sub(r'\\s+', ' ', review) #remove extra space\n",
        "    review = re.sub(r'<[^>]+>','',review) #remove Html tags\n",
        "    review = re.sub(r'\\s+', ' ', review) #remove spaces\n",
        "    review = re.sub(r\"^\\s+\", '', review) #remove space from start\n",
        "    review = re.sub(r'\\s+$', '', review) #remove space from the end\n",
        "    corpus.append(review)\n",
        "  return corpus\n"
      ],
      "execution_count": null,
      "outputs": []
    },
    {
      "cell_type": "code",
      "metadata": {
        "id": "aJsqtUXNjanR"
      },
      "source": [
        "for j in data.columns[0:3]:\n",
        "  temp=[]\n",
        "  for i in list(data[j]):\n",
        "    temp.append(clean_punc(i, punct, punct_mapping))\n",
        "  temp=clean_text(temp)\n",
        "  data[j]=temp"
      ],
      "execution_count": null,
      "outputs": []
    },
    {
      "cell_type": "code",
      "metadata": {
        "id": "skWd5QIGmHg5"
      },
      "source": [
        "data.to_csv(\"/content/drive/Shareddrives/2021민원/데이터/clean_data.csv\", index=False)"
      ],
      "execution_count": null,
      "outputs": []
    }
  ]
}
