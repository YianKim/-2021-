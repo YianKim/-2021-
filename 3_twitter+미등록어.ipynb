{
  "nbformat": 4,
  "nbformat_minor": 0,
  "metadata": {
    "colab": {
      "name": "3. twitter+미등록어.ipynb",
      "provenance": [],
      "collapsed_sections": [],
      "include_colab_link": true
    },
    "kernelspec": {
      "name": "python3",
      "display_name": "Python 3"
    },
    "language_info": {
      "name": "python"
    }
  },
  "cells": [
    {
      "cell_type": "markdown",
      "metadata": {
        "id": "view-in-github",
        "colab_type": "text"
      },
      "source": [
        "<a href=\"https://colab.research.google.com/github/YianKim/Complaints-NLP-Visualization-2021/blob/main/3_twitter%2B%EB%AF%B8%EB%93%B1%EB%A1%9D%EC%96%B4.ipynb\" target=\"_parent\"><img src=\"https://colab.research.google.com/assets/colab-badge.svg\" alt=\"Open In Colab\"/></a>"
      ]
    },
    {
      "cell_type": "code",
      "metadata": {
        "colab": {
          "base_uri": "https://localhost:8080/"
        },
        "id": "cLQFtqjtaMQ_",
        "outputId": "579ffdf1-da74-406f-973f-0d0271688382"
      },
      "source": [
        "from google.colab import drive\n",
        "drive.mount('/content/drive')"
      ],
      "execution_count": 2,
      "outputs": [
        {
          "output_type": "stream",
          "name": "stdout",
          "text": [
            "Drive already mounted at /content/drive; to attempt to forcibly remount, call drive.mount(\"/content/drive\", force_remount=True).\n"
          ]
        }
      ]
    },
    {
      "cell_type": "code",
      "metadata": {
        "colab": {
          "base_uri": "https://localhost:8080/"
        },
        "id": "ZqpFbY12ywlV",
        "outputId": "4035351b-022b-483a-e58a-6ec41b748b39"
      },
      "source": [
        "pip install customized_konlpy"
      ],
      "execution_count": 6,
      "outputs": [
        {
          "output_type": "stream",
          "name": "stdout",
          "text": [
            "Collecting customized_konlpy\n",
            "  Downloading customized_konlpy-0.0.64-py3-none-any.whl (881 kB)\n",
            "\u001b[?25l\r\u001b[K     |▍                               | 10 kB 24.7 MB/s eta 0:00:01\r\u001b[K     |▊                               | 20 kB 27.8 MB/s eta 0:00:01\r\u001b[K     |█▏                              | 30 kB 31.4 MB/s eta 0:00:01\r\u001b[K     |█▌                              | 40 kB 32.1 MB/s eta 0:00:01\r\u001b[K     |█▉                              | 51 kB 32.5 MB/s eta 0:00:01\r\u001b[K     |██▎                             | 61 kB 33.4 MB/s eta 0:00:01\r\u001b[K     |██▋                             | 71 kB 33.2 MB/s eta 0:00:01\r\u001b[K     |███                             | 81 kB 33.3 MB/s eta 0:00:01\r\u001b[K     |███▍                            | 92 kB 34.4 MB/s eta 0:00:01\r\u001b[K     |███▊                            | 102 kB 36.2 MB/s eta 0:00:01\r\u001b[K     |████                            | 112 kB 36.2 MB/s eta 0:00:01\r\u001b[K     |████▌                           | 122 kB 36.2 MB/s eta 0:00:01\r\u001b[K     |████▉                           | 133 kB 36.2 MB/s eta 0:00:01\r\u001b[K     |█████▏                          | 143 kB 36.2 MB/s eta 0:00:01\r\u001b[K     |█████▋                          | 153 kB 36.2 MB/s eta 0:00:01\r\u001b[K     |██████                          | 163 kB 36.2 MB/s eta 0:00:01\r\u001b[K     |██████▎                         | 174 kB 36.2 MB/s eta 0:00:01\r\u001b[K     |██████▊                         | 184 kB 36.2 MB/s eta 0:00:01\r\u001b[K     |███████                         | 194 kB 36.2 MB/s eta 0:00:01\r\u001b[K     |███████▍                        | 204 kB 36.2 MB/s eta 0:00:01\r\u001b[K     |███████▉                        | 215 kB 36.2 MB/s eta 0:00:01\r\u001b[K     |████████▏                       | 225 kB 36.2 MB/s eta 0:00:01\r\u001b[K     |████████▌                       | 235 kB 36.2 MB/s eta 0:00:01\r\u001b[K     |█████████                       | 245 kB 36.2 MB/s eta 0:00:01\r\u001b[K     |█████████▎                      | 256 kB 36.2 MB/s eta 0:00:01\r\u001b[K     |█████████▋                      | 266 kB 36.2 MB/s eta 0:00:01\r\u001b[K     |██████████                      | 276 kB 36.2 MB/s eta 0:00:01\r\u001b[K     |██████████▍                     | 286 kB 36.2 MB/s eta 0:00:01\r\u001b[K     |██████████▉                     | 296 kB 36.2 MB/s eta 0:00:01\r\u001b[K     |███████████▏                    | 307 kB 36.2 MB/s eta 0:00:01\r\u001b[K     |███████████▌                    | 317 kB 36.2 MB/s eta 0:00:01\r\u001b[K     |████████████                    | 327 kB 36.2 MB/s eta 0:00:01\r\u001b[K     |████████████▎                   | 337 kB 36.2 MB/s eta 0:00:01\r\u001b[K     |████████████▋                   | 348 kB 36.2 MB/s eta 0:00:01\r\u001b[K     |█████████████                   | 358 kB 36.2 MB/s eta 0:00:01\r\u001b[K     |█████████████▍                  | 368 kB 36.2 MB/s eta 0:00:01\r\u001b[K     |█████████████▊                  | 378 kB 36.2 MB/s eta 0:00:01\r\u001b[K     |██████████████▏                 | 389 kB 36.2 MB/s eta 0:00:01\r\u001b[K     |██████████████▌                 | 399 kB 36.2 MB/s eta 0:00:01\r\u001b[K     |██████████████▉                 | 409 kB 36.2 MB/s eta 0:00:01\r\u001b[K     |███████████████▎                | 419 kB 36.2 MB/s eta 0:00:01\r\u001b[K     |███████████████▋                | 430 kB 36.2 MB/s eta 0:00:01\r\u001b[K     |████████████████                | 440 kB 36.2 MB/s eta 0:00:01\r\u001b[K     |████████████████▍               | 450 kB 36.2 MB/s eta 0:00:01\r\u001b[K     |████████████████▊               | 460 kB 36.2 MB/s eta 0:00:01\r\u001b[K     |█████████████████               | 471 kB 36.2 MB/s eta 0:00:01\r\u001b[K     |█████████████████▌              | 481 kB 36.2 MB/s eta 0:00:01\r\u001b[K     |█████████████████▉              | 491 kB 36.2 MB/s eta 0:00:01\r\u001b[K     |██████████████████▏             | 501 kB 36.2 MB/s eta 0:00:01\r\u001b[K     |██████████████████▋             | 512 kB 36.2 MB/s eta 0:00:01\r\u001b[K     |███████████████████             | 522 kB 36.2 MB/s eta 0:00:01\r\u001b[K     |███████████████████▎            | 532 kB 36.2 MB/s eta 0:00:01\r\u001b[K     |███████████████████▊            | 542 kB 36.2 MB/s eta 0:00:01\r\u001b[K     |████████████████████            | 552 kB 36.2 MB/s eta 0:00:01\r\u001b[K     |████████████████████▌           | 563 kB 36.2 MB/s eta 0:00:01\r\u001b[K     |████████████████████▉           | 573 kB 36.2 MB/s eta 0:00:01\r\u001b[K     |█████████████████████▏          | 583 kB 36.2 MB/s eta 0:00:01\r\u001b[K     |█████████████████████▋          | 593 kB 36.2 MB/s eta 0:00:01\r\u001b[K     |██████████████████████          | 604 kB 36.2 MB/s eta 0:00:01\r\u001b[K     |██████████████████████▎         | 614 kB 36.2 MB/s eta 0:00:01\r\u001b[K     |██████████████████████▊         | 624 kB 36.2 MB/s eta 0:00:01\r\u001b[K     |███████████████████████         | 634 kB 36.2 MB/s eta 0:00:01\r\u001b[K     |███████████████████████▍        | 645 kB 36.2 MB/s eta 0:00:01\r\u001b[K     |███████████████████████▉        | 655 kB 36.2 MB/s eta 0:00:01\r\u001b[K     |████████████████████████▏       | 665 kB 36.2 MB/s eta 0:00:01\r\u001b[K     |████████████████████████▌       | 675 kB 36.2 MB/s eta 0:00:01\r\u001b[K     |█████████████████████████       | 686 kB 36.2 MB/s eta 0:00:01\r\u001b[K     |█████████████████████████▎      | 696 kB 36.2 MB/s eta 0:00:01\r\u001b[K     |█████████████████████████▋      | 706 kB 36.2 MB/s eta 0:00:01\r\u001b[K     |██████████████████████████      | 716 kB 36.2 MB/s eta 0:00:01\r\u001b[K     |██████████████████████████▍     | 727 kB 36.2 MB/s eta 0:00:01\r\u001b[K     |██████████████████████████▊     | 737 kB 36.2 MB/s eta 0:00:01\r\u001b[K     |███████████████████████████▏    | 747 kB 36.2 MB/s eta 0:00:01\r\u001b[K     |███████████████████████████▌    | 757 kB 36.2 MB/s eta 0:00:01\r\u001b[K     |███████████████████████████▉    | 768 kB 36.2 MB/s eta 0:00:01\r\u001b[K     |████████████████████████████▎   | 778 kB 36.2 MB/s eta 0:00:01\r\u001b[K     |████████████████████████████▋   | 788 kB 36.2 MB/s eta 0:00:01\r\u001b[K     |█████████████████████████████   | 798 kB 36.2 MB/s eta 0:00:01\r\u001b[K     |█████████████████████████████▍  | 808 kB 36.2 MB/s eta 0:00:01\r\u001b[K     |█████████████████████████████▊  | 819 kB 36.2 MB/s eta 0:00:01\r\u001b[K     |██████████████████████████████▏ | 829 kB 36.2 MB/s eta 0:00:01\r\u001b[K     |██████████████████████████████▌ | 839 kB 36.2 MB/s eta 0:00:01\r\u001b[K     |██████████████████████████████▉ | 849 kB 36.2 MB/s eta 0:00:01\r\u001b[K     |███████████████████████████████▎| 860 kB 36.2 MB/s eta 0:00:01\r\u001b[K     |███████████████████████████████▋| 870 kB 36.2 MB/s eta 0:00:01\r\u001b[K     |████████████████████████████████| 880 kB 36.2 MB/s eta 0:00:01\r\u001b[K     |████████████████████████████████| 881 kB 36.2 MB/s \n",
            "\u001b[?25hRequirement already satisfied: Jpype1>=0.6.1 in /usr/local/lib/python3.7/dist-packages (from customized_konlpy) (1.3.0)\n",
            "Requirement already satisfied: konlpy>=0.4.4 in /usr/local/lib/python3.7/dist-packages (from customized_konlpy) (0.5.2)\n",
            "Requirement already satisfied: typing-extensions in /usr/local/lib/python3.7/dist-packages (from Jpype1>=0.6.1->customized_konlpy) (3.10.0.2)\n",
            "Requirement already satisfied: beautifulsoup4==4.6.0 in /usr/local/lib/python3.7/dist-packages (from konlpy>=0.4.4->customized_konlpy) (4.6.0)\n",
            "Requirement already satisfied: lxml>=4.1.0 in /usr/local/lib/python3.7/dist-packages (from konlpy>=0.4.4->customized_konlpy) (4.2.6)\n",
            "Requirement already satisfied: numpy>=1.6 in /usr/local/lib/python3.7/dist-packages (from konlpy>=0.4.4->customized_konlpy) (1.19.5)\n",
            "Requirement already satisfied: colorama in /usr/local/lib/python3.7/dist-packages (from konlpy>=0.4.4->customized_konlpy) (0.4.4)\n",
            "Requirement already satisfied: tweepy>=3.7.0 in /usr/local/lib/python3.7/dist-packages (from konlpy>=0.4.4->customized_konlpy) (3.10.0)\n",
            "Requirement already satisfied: requests[socks]>=2.11.1 in /usr/local/lib/python3.7/dist-packages (from tweepy>=3.7.0->konlpy>=0.4.4->customized_konlpy) (2.23.0)\n",
            "Requirement already satisfied: requests-oauthlib>=0.7.0 in /usr/local/lib/python3.7/dist-packages (from tweepy>=3.7.0->konlpy>=0.4.4->customized_konlpy) (1.3.0)\n",
            "Requirement already satisfied: six>=1.10.0 in /usr/local/lib/python3.7/dist-packages (from tweepy>=3.7.0->konlpy>=0.4.4->customized_konlpy) (1.15.0)\n",
            "Requirement already satisfied: oauthlib>=3.0.0 in /usr/local/lib/python3.7/dist-packages (from requests-oauthlib>=0.7.0->tweepy>=3.7.0->konlpy>=0.4.4->customized_konlpy) (3.1.1)\n",
            "Requirement already satisfied: idna<3,>=2.5 in /usr/local/lib/python3.7/dist-packages (from requests[socks]>=2.11.1->tweepy>=3.7.0->konlpy>=0.4.4->customized_konlpy) (2.10)\n",
            "Requirement already satisfied: chardet<4,>=3.0.2 in /usr/local/lib/python3.7/dist-packages (from requests[socks]>=2.11.1->tweepy>=3.7.0->konlpy>=0.4.4->customized_konlpy) (3.0.4)\n",
            "Requirement already satisfied: urllib3!=1.25.0,!=1.25.1,<1.26,>=1.21.1 in /usr/local/lib/python3.7/dist-packages (from requests[socks]>=2.11.1->tweepy>=3.7.0->konlpy>=0.4.4->customized_konlpy) (1.24.3)\n",
            "Requirement already satisfied: certifi>=2017.4.17 in /usr/local/lib/python3.7/dist-packages (from requests[socks]>=2.11.1->tweepy>=3.7.0->konlpy>=0.4.4->customized_konlpy) (2021.10.8)\n",
            "Requirement already satisfied: PySocks!=1.5.7,>=1.5.6 in /usr/local/lib/python3.7/dist-packages (from requests[socks]>=2.11.1->tweepy>=3.7.0->konlpy>=0.4.4->customized_konlpy) (1.7.1)\n",
            "Installing collected packages: customized-konlpy\n",
            "Successfully installed customized-konlpy-0.0.64\n"
          ]
        }
      ]
    },
    {
      "cell_type": "code",
      "metadata": {
        "colab": {
          "base_uri": "https://localhost:8080/"
        },
        "id": "__PA4MB3o3-1",
        "outputId": "eace2daa-8a2e-48f2-e7f9-c51e5d75c065"
      },
      "source": [
        "pip install konlpy"
      ],
      "execution_count": 3,
      "outputs": [
        {
          "output_type": "stream",
          "name": "stdout",
          "text": [
            "Collecting konlpy\n",
            "  Downloading konlpy-0.5.2-py2.py3-none-any.whl (19.4 MB)\n",
            "\u001b[K     |████████████████████████████████| 19.4 MB 1.3 MB/s \n",
            "\u001b[?25hCollecting colorama\n",
            "  Downloading colorama-0.4.4-py2.py3-none-any.whl (16 kB)\n",
            "Collecting JPype1>=0.7.0\n",
            "  Downloading JPype1-1.3.0-cp37-cp37m-manylinux_2_5_x86_64.manylinux1_x86_64.whl (448 kB)\n",
            "\u001b[K     |████████████████████████████████| 448 kB 40.4 MB/s \n",
            "\u001b[?25hRequirement already satisfied: tweepy>=3.7.0 in /usr/local/lib/python3.7/dist-packages (from konlpy) (3.10.0)\n",
            "Collecting beautifulsoup4==4.6.0\n",
            "  Downloading beautifulsoup4-4.6.0-py3-none-any.whl (86 kB)\n",
            "\u001b[K     |████████████████████████████████| 86 kB 6.2 MB/s \n",
            "\u001b[?25hRequirement already satisfied: numpy>=1.6 in /usr/local/lib/python3.7/dist-packages (from konlpy) (1.19.5)\n",
            "Requirement already satisfied: lxml>=4.1.0 in /usr/local/lib/python3.7/dist-packages (from konlpy) (4.2.6)\n",
            "Requirement already satisfied: typing-extensions in /usr/local/lib/python3.7/dist-packages (from JPype1>=0.7.0->konlpy) (3.10.0.2)\n",
            "Requirement already satisfied: six>=1.10.0 in /usr/local/lib/python3.7/dist-packages (from tweepy>=3.7.0->konlpy) (1.15.0)\n",
            "Requirement already satisfied: requests[socks]>=2.11.1 in /usr/local/lib/python3.7/dist-packages (from tweepy>=3.7.0->konlpy) (2.23.0)\n",
            "Requirement already satisfied: requests-oauthlib>=0.7.0 in /usr/local/lib/python3.7/dist-packages (from tweepy>=3.7.0->konlpy) (1.3.0)\n",
            "Requirement already satisfied: oauthlib>=3.0.0 in /usr/local/lib/python3.7/dist-packages (from requests-oauthlib>=0.7.0->tweepy>=3.7.0->konlpy) (3.1.1)\n",
            "Requirement already satisfied: chardet<4,>=3.0.2 in /usr/local/lib/python3.7/dist-packages (from requests[socks]>=2.11.1->tweepy>=3.7.0->konlpy) (3.0.4)\n",
            "Requirement already satisfied: idna<3,>=2.5 in /usr/local/lib/python3.7/dist-packages (from requests[socks]>=2.11.1->tweepy>=3.7.0->konlpy) (2.10)\n",
            "Requirement already satisfied: urllib3!=1.25.0,!=1.25.1,<1.26,>=1.21.1 in /usr/local/lib/python3.7/dist-packages (from requests[socks]>=2.11.1->tweepy>=3.7.0->konlpy) (1.24.3)\n",
            "Requirement already satisfied: certifi>=2017.4.17 in /usr/local/lib/python3.7/dist-packages (from requests[socks]>=2.11.1->tweepy>=3.7.0->konlpy) (2021.10.8)\n",
            "Requirement already satisfied: PySocks!=1.5.7,>=1.5.6 in /usr/local/lib/python3.7/dist-packages (from requests[socks]>=2.11.1->tweepy>=3.7.0->konlpy) (1.7.1)\n",
            "Installing collected packages: JPype1, colorama, beautifulsoup4, konlpy\n",
            "  Attempting uninstall: beautifulsoup4\n",
            "    Found existing installation: beautifulsoup4 4.6.3\n",
            "    Uninstalling beautifulsoup4-4.6.3:\n",
            "      Successfully uninstalled beautifulsoup4-4.6.3\n",
            "Successfully installed JPype1-1.3.0 beautifulsoup4-4.6.0 colorama-0.4.4 konlpy-0.5.2\n"
          ]
        }
      ]
    },
    {
      "cell_type": "code",
      "metadata": {
        "id": "zTPYoGHNo3uU"
      },
      "source": [
        "import numpy as np \n",
        "import pandas as pd \n",
        "import seaborn as sns\n",
        "import matplotlib.pyplot as plt"
      ],
      "execution_count": 83,
      "outputs": []
    },
    {
      "cell_type": "code",
      "metadata": {
        "id": "H8IRTtqECwJ5"
      },
      "source": [
        "data['질문내용'][8625]=[]\n",
        "data['질문내용'][17230]=[]"
      ],
      "execution_count": 93,
      "outputs": []
    },
    {
      "cell_type": "code",
      "metadata": {
        "colab": {
          "base_uri": "https://localhost:8080/"
        },
        "id": "vZ7C0TCjFgB2",
        "outputId": "31ca21b1-b1ea-4579-c7ee-65c2d22362da"
      },
      "source": [
        "# 찾기1\n",
        "[s for s in list(data[\"질문내용\"]) if \"벌룬\" in s]"
      ],
      "execution_count": 120,
      "outputs": [
        {
          "output_type": "execute_result",
          "data": {
            "text/plain": [
              "['환경보호를 위해 대기중으로의 풍선날리기 벌룬세레머니 제재 요청',\n",
              " '과천시에 애드벌룬 띄우려면 어떻게 해야하나요',\n",
              " '커피전문점에서 판매되는 카페모카 등 제품에 추가되는 휘핑크림 제조에 카트리지 형태의 아산화질소를 사용하는데 동 제품이 해피벌룬이라는 이름으로 환각물질로 오용되어 유통을 금지한다고 알고 있는데 언제까지 사용가능한가요',\n",
              " '커피전문점에서 판매되는 카페모카 등 제품에 추가되는 휘핑크림 제조에 카트리지 형태의 아산화질소를 사용하는데 동 제품이 해피벌룬이라는 이름으로 환각물질로 오용되어 유통을 금지한다고 알고 있는데 언제까지 사용가능한가요']"
            ]
          },
          "metadata": {},
          "execution_count": 120
        }
      ]
    },
    {
      "cell_type": "code",
      "metadata": {
        "colab": {
          "base_uri": "https://localhost:8080/"
        },
        "id": "pSqgzUql_tO_",
        "outputId": "ec773b86-0f3b-46ff-a3e6-70c2457c1cf9"
      },
      "source": [
        "# 찾기2\n",
        "[s for s in list(data[\"제목\"]) if \"벌룬\" in s]"
      ],
      "execution_count": 122,
      "outputs": [
        {
          "output_type": "execute_result",
          "data": {
            "text/plain": [
              "['애드벌룬 문의']"
            ]
          },
          "metadata": {},
          "execution_count": 122
        }
      ]
    },
    {
      "cell_type": "code",
      "metadata": {
        "id": "1GHUbyLCqzh5"
      },
      "source": [
        "# from konlpy.tag import Okt\n",
        "# okt = Okt()"
      ],
      "execution_count": 85,
      "outputs": []
    },
    {
      "cell_type": "code",
      "metadata": {
        "colab": {
          "base_uri": "https://localhost:8080/"
        },
        "id": "YmyQxQGY-7iO",
        "outputId": "fd4f61bb-0f07-42e7-955b-7d8649cbbd9e"
      },
      "source": [
        "from ckonlpy.tag import Twitter\n",
        "twitter = Twitter()"
      ],
      "execution_count": 86,
      "outputs": [
        {
          "output_type": "stream",
          "name": "stderr",
          "text": [
            "/usr/local/lib/python3.7/dist-packages/konlpy/tag/_okt.py:16: UserWarning: \"Twitter\" has changed to \"Okt\" since KoNLPy v0.4.5.\n",
            "  warn('\"Twitter\" has changed to \"Okt\" since KoNLPy v0.4.5.')\n"
          ]
        }
      ]
    },
    {
      "cell_type": "code",
      "metadata": {
        "id": "1dF8tp1o8dGt"
      },
      "source": [
        "# 사전에 추가\n",
        "twitter.add_dictionary('코로나', 'Noun')\n",
        "twitter.add_dictionary('석호정', 'Noun')\n",
        "twitter.add_dictionary('전통활터', 'Noun')\n",
        "twitter.add_dictionary('인바디', 'Noun')\n",
        "twitter.add_dictionary('스타프루트', 'Noun')\n",
        "twitter.add_dictionary('카람볼라', 'Noun')\n",
        "twitter.add_dictionary('시간강사', 'Noun')\n",
        "twitter.add_dictionary('세차폐수', 'Noun')\n",
        "twitter.add_dictionary('천변로', 'Noun')\n",
        "twitter.add_dictionary('수변로', 'Noun')\n",
        "twitter.add_dictionary('강변로', 'Noun')\n",
        "twitter.add_dictionary('광안해변로', 'Noun')\n",
        "twitter.add_dictionary('애드벌룬', 'Noun')\n",
        "twitter.add_dictionary('해피벌룬', 'Noun')\n",
        "twitter.add_dictionary('벌룬세레머니', 'Noun')"
      ],
      "execution_count": 64,
      "outputs": []
    },
    {
      "cell_type": "code",
      "metadata": {
        "id": "CC3HfDBAzxv8"
      },
      "source": [
        "stopwords=\"안할껍니까 안할껍 니까 개월로 란 아 휴 아이구 아이쿠 아이고 어 나 우리 저희 따라 의해 을 를 에 의 가 으로 로 에게 뿐이다 의거하여 근거하여 입각하여 기준으로 예하면 예를 들면 예를 들자면 저 소인 소생 저희 지말고 하지마 하지마라 다른 물론 또한 그리고 비길수 없다 해서는 안된다 뿐만 아니라 만이 아니다 만은 아니다 막론하고 관계없이 그치지 않다 그러나 그런데 하지만 든간에 논하지 않다 따지지 않다 설사 비록 더라도 아니면 만 못하다 하는 편이 낫다 불문하고 향하여 향해서 향하다 쪽으로 틈타 이용하여 타다 오르다 제외하고 이 외에 이 밖에 하여야 비로소 한다면 몰라도 외에도 이곳 여기 부터 기점으로 따라서 할 생각이다 하려고하다 이리하여 그리하여 그렇게 함으로써 하지만 일때 할때 앞에서 중에서 보는데서 으로써 로써 까지 해야한다 일것이다 반드시 할줄알다 할수있다 할수있어 임에 틀림없다 한다면 등 등등 제 겨우 단지 다만 할뿐 딩동 댕그 대해서 대하여 대하면 훨씬 얼마나 얼마만큼 얼마큼 남짓 여 얼마간 약간 다소 좀 조금 다수 몇 얼마 지만 하물며 또한 그러나 그렇지만 하지만 이외에도 대해 말하자면 뿐이다 다음에 반대로 반대로 말하자면 이와 반대로 바꾸어서 말하면 바꾸어서 한다면 만약 그렇지않으면 까악 툭 딱 삐걱거리다 보드득 비걱거리다 꽈당 응당 해야한다 에 가서 각 각각 여러분 각종 각자 제각기 하도록하다 와 과 그러므로 그래서 고로 한 까닭에 하기 때문에 거니와 이지만 대하여 관하여 관한 과연 실로 아니나다를가 생각한대로 진짜로 한적이있다 하곤하였다 하 하하 허허 아하 거바 와 오 왜 어째서 무엇때문에 어찌 하겠는가 무슨 어디 어느곳 더군다나 하물며 더욱이는 어느때 언제 야 이봐 어이 여보시오 흐흐 흥 휴 헉헉 헐떡헐떡 영차 여차 어기여차 끙끙 아야 앗 아야 콸콸 졸졸 좍좍 뚝뚝 주룩주룩 솨 우르르 그래도 또 그리고 바꾸어말하면 바꾸어말하자면 혹은 혹시 답다 및 그에 따르는 때가 되어 즉 지든지 설령 가령 하더라도 할지라도 일지라도 지든지 몇 거의 하마터면 인젠 이젠 된바에야 된이상 만큼 어찌됏든 그위에 게다가 점에서 보아 비추어 보아 고려하면 하게될것이다 일것이다 비교적 좀 보다더 비하면 시키다 하게하다 할만하다 의해서 연이서 이어서 잇따라 뒤따라 뒤이어 결국 의지하여 기대여 통하여 자마자 더욱더 불구하고 얼마든지 마음대로 주저하지 않고 곧 즉시 바로 당장 하자마자 밖에 안된다 하면된다 그래 그렇지 요컨대 다시 말하자면 바꿔 말하면 즉 구체적으로 말하자면 시작하여 시초에 이상 허 헉 허걱 바와같이 해도좋다 해도된다 게다가 더구나 하물며 와르르 팍 퍽 펄렁 동안 이래 하고있었다 이었다 에서 로부터 까지 예하면 했어요 해요 함께 같이 더불어 마저 마저도 양자 모두 습니다 가까스로 하려고하다 즈음하여 다른 다른 방면으로 해봐요 습니까 했어요 말할것도 없고 무릎쓰고 개의치않고 하는것만 못하다 하는것이 낫다 매 매번 들 모 어느것 어느 로써 갖고말하자면 어디 어느쪽 어느것 어느해 어느 년도 라 해도 언젠가 어떤것 어느것 저기 저쪽 저것 그때 그럼 그러면 요만한걸 그래 그때 저것만큼 그저 이르기까지 할 줄 안다 할 힘이 있다 너 너희 당신 어찌 설마 차라리 할지언정 할지라도 할망정 할지언정 구토하다 게우다 토하다 메쓰겁다 옆사람 퉤 쳇 의거하여 근거하여 의해 따라 힘입어 그 다음 버금 두번째로 기타 첫번째로 나머지는 그중에서 견지에서 형식으로 쓰여 입장에서 위해서 단지 의해되다 하도록시키다 뿐만아니라 반대로 전후 전자 앞의것 잠시 잠깐 하면서 그렇지만 다음에 그러한즉 그런즉 남들 아무거나 어찌하든지 같다 비슷하다 예컨대 이럴정도로 어떻게 만약 만일 위에서 서술한바와같이 인 듯하다 하지 않는다면 만약에 무엇 무슨 어느 어떤 아래윗 조차 한데 그럼에도 불구하고 여전히 심지어 까지도 조차도 하지 않도록 않기 위하여 때 시각 무렵 시간 동안 어때 어떠한 하여금 네 예 우선 누구 누가 알겠는가 아무도 줄은모른다 줄은 몰랏다 하는 김에 겸사겸사 하는바 그런 까닭에 한 이유는 그러니 그러니까 때문에 그 너희 그들 너희들 타인 것 것들 너 위하여 공동으로 동시에 하기 위하여 어찌하여 무엇때문에 붕붕 윙윙 나 우리 엉엉 휘익 윙윙 오호 아하 어쨋든 만 못하다 하기보다는 차라리 하는 편이 낫다 흐흐 놀라다 상대적으로 말하자면 마치 아니라면 쉿 그렇지 않으면 그렇지 않다면 안 그러면 아니었다면 하든지 아니면 이라면 좋아 알았어 하는것도 그만이다 어쩔수 없다 하나 일 일반적으로 일단 한켠으로는 오자마자 이렇게되면 이와같다면 전부 한마디 한항목 근거로 하기에 아울러 하지 않도록 않기 위해서 이르기까지 이 되다 로 인하여 까닭으로 이유만으로 이로 인하여 그래서 이 때문에 그러므로 그런 까닭에 알 수 있다 결론을 낼 수 있다 으로 인하여 있다 어떤것 관계가 있다 관련이 있다 연관되다 어떤것들 에 대해 이리하여 그리하여 여부 하기보다는 하느니 하면 할수록 운운 이러이러하다 하구나 하도다 다시말하면 다음으로 에 있다 에 달려 있다 우리 우리들 오히려 하기는한데 어떻게 어떻해 어찌됏어 어때 어째서 본대로 자 이 이쪽 여기 이것 이번 이렇게말하자면 이런 이러한 이와 같은 요만큼 요만한 것 얼마 안 되는 것 이만큼 이 정도의 이렇게 많은 것 이와 같다 이때 이렇구나 것과 같이 끼익 삐걱 따위 와 같은 사람들 부류의 사람들 왜냐하면 중의하나 오직 오로지 에 한하다 하기만 하면 도착하다 까지 미치다 도달하다 정도에 이르다 할 지경이다 결과에 이르다 관해서는 여러분 하고 있다 한 후 혼자 자기 자기집 자신 우에 종합한것과같이 총적으로 보면 총적으로 말하면 총적으로 대로 하다 으로서 참 그만이다 할 따름이다 쿵 탕탕 쾅쾅 둥둥 봐 봐라 아이야 아니 와아 응 아이 참나 년 월 일 령 영 일 이 삼 사 오 육 륙 칠 팔 구 이천육 이천칠 이천팔 이천구 하나 둘 셋 넷 다섯 여섯 일곱 여덟 아홉 령 영 이 있 하 것 들 그 되 수 이 보 않 없 나 사람 주 아니 등 같 우리 때 년 가 한 지 대하 오 말 일 그렇 위하 때문 그것 두 말하 알 그러나 받 못하 일 그런 또 문제 더 사회 많 그리고 좋 크 따르 중 나오 가지 씨 시키 만들 지금 생각하 그러 속 하나 집 살 모르 적 월 데 자신 안 어떤 내 내 경우 명 생각 시간 그녀 다시 이런 앞 보이 번 나 다른 어떻 여자 개 전 들 사실 이렇 점 싶 말 정도 좀 원 잘 통하 놓 움찔 북적\""
      ],
      "execution_count": 115,
      "outputs": []
    },
    {
      "cell_type": "code",
      "metadata": {
        "id": "z8_LTmW5o3xP"
      },
      "source": [
        "data = pd.read_csv(\"/content/drive/Shareddrives/2021민원/데이터/clean_data2.csv\")"
      ],
      "execution_count": 8,
      "outputs": []
    },
    {
      "cell_type": "code",
      "metadata": {
        "id": "7qExOHElqzlI"
      },
      "source": [
        "#텍스트 데이터를 리스트로 변환\n",
        "Data_list = data.질문내용.values.tolist()\n",
        "data['질문내용_nouns'] = data['질문내용'].copy()\n",
        "\n",
        "#리스트를 요소별로(트윗 하나) 가져와서 명사만 추출한 후 리스트로 저장\n",
        "# data_word=[]\n",
        "for i in range(len(Data_list)):\n",
        "    try:\n",
        "        # data_word.append(okt.nouns(Data_list[i]))\n",
        "        print(i)\n",
        "        data.loc[i,'질문내용_nouns'] = twitter.nouns((Data_list[i]))\n",
        "    except Exception as e:\n",
        "        continue\n",
        "\n",
        "# 트윗에서 명사만 추출해서 만든 리스트\n",
        "# data_word"
      ],
      "execution_count": null,
      "outputs": []
    },
    {
      "cell_type": "code",
      "metadata": {
        "id": "OAYr-roh06P6"
      },
      "source": [
        "data['질문내용_nouns'][8625]=[]\n",
        "data['질문내용_nouns'][17230]=[]"
      ],
      "execution_count": 91,
      "outputs": []
    },
    {
      "cell_type": "code",
      "metadata": {
        "id": "8HSBuybKiyx3"
      },
      "source": [
        "#텍스트 데이터를 리스트로 변환\n",
        "Data_list = data.제목.values.tolist()\n",
        "data['제목_nouns'] = data['제목'].copy()\n",
        "\n",
        "#리스트를 요소별로(트윗 하나) 가져와서 명사만 추출한 후 리스트로 저장\n",
        "# data_word=[]\n",
        "for i in range(len(Data_list)):\n",
        "    try:\n",
        "        # data_word.append(okt.nouns(Data_list[i]))\n",
        "        data.loc[i,'제목_nouns'] = twitter.nouns(Data_list[i])\n",
        "    except Exception as e:\n",
        "        continue\n",
        "\n",
        "#트윗에서 명사만 추출해서 만든 리스트\n",
        "# data_word"
      ],
      "execution_count": null,
      "outputs": []
    },
    {
      "cell_type": "code",
      "metadata": {
        "id": "KeRcQbegkoKC"
      },
      "source": [
        "#텍스트 데이터를 리스트로 변환\n",
        "Data_list = data.답변내용.values.tolist()\n",
        "data['답변내용_nouns'] = data['답변내용'].copy()\n",
        "\n",
        "#리스트를 요소별로(트윗 하나) 가져와서 명사만 추출한 후 리스트로 저장\n",
        "# data_word=[]\n",
        "for i in range(len(Data_list)):\n",
        "    try:\n",
        "        # data_word.append(okt.nouns(Data_list[i]))\n",
        "        data.loc[i,'답변내용_nouns'] = twitter.nouns(Data_list[i])\n",
        "    except Exception as e:\n",
        "        continue\n",
        "\n",
        "#트윗에서 명사만 추출해서 만든 리스트\n",
        "# data_word"
      ],
      "execution_count": null,
      "outputs": []
    },
    {
      "cell_type": "code",
      "metadata": {
        "id": "UendjJkX57Gr"
      },
      "source": [
        "# 불용어 제거\n",
        "jjj = list(range(57249))\n",
        "for i in range(57249):\n",
        "  nnn = []\n",
        "  for j in data['질문내용_nouns'][i]:\n",
        "    if j not in stopwords:\n",
        "      nnn.append(j)\n",
        "  jjj[i] = nnn\n",
        "\n",
        "data['질문내용_nouns']=jjj\n",
        "\n",
        "jjj = list(range(57249))\n",
        "for i in range(57249):\n",
        "  nnn = []\n",
        "  for j in data['답변내용_nouns'][i]:\n",
        "    if j not in stopwords:\n",
        "      nnn.append(j)\n",
        "  jjj[i] = nnn\n",
        "\n",
        "data['답변내용_nouns']=jjj\n",
        "\n",
        "jjj = list(range(57249))\n",
        "for i in range(57249):\n",
        "  nnn = []\n",
        "  for j in data['제목_nouns'][i]:\n",
        "    if j not in stopwords:\n",
        "      nnn.append(j)\n",
        "  jjj[i] = nnn\n",
        "\n",
        "data['제목_nouns']=jjj"
      ],
      "execution_count": null,
      "outputs": []
    },
    {
      "cell_type": "code",
      "metadata": {
        "colab": {
          "base_uri": "https://localhost:8080/",
          "height": 502
        },
        "id": "0c_Uhw6fk2Fo",
        "outputId": "24d18b50-ce11-46ce-f93d-c803f6bd780b"
      },
      "source": [
        "data = data[['제목', '제목_nouns', '질문내용', '질문내용_nouns', '답변내용', '답변내용_nouns', '최상위기관명', '분야명', '담당부서명', '월', '일', '오전오후', '시간']]\n",
        "data.head()"
      ],
      "execution_count": null,
      "outputs": [
        {
          "output_type": "execute_result",
          "data": {
            "text/html": [
              "<div>\n",
              "<style scoped>\n",
              "    .dataframe tbody tr th:only-of-type {\n",
              "        vertical-align: middle;\n",
              "    }\n",
              "\n",
              "    .dataframe tbody tr th {\n",
              "        vertical-align: top;\n",
              "    }\n",
              "\n",
              "    .dataframe thead th {\n",
              "        text-align: right;\n",
              "    }\n",
              "</style>\n",
              "<table border=\"1\" class=\"dataframe\">\n",
              "  <thead>\n",
              "    <tr style=\"text-align: right;\">\n",
              "      <th></th>\n",
              "      <th>제목</th>\n",
              "      <th>제목_nouns</th>\n",
              "      <th>질문내용</th>\n",
              "      <th>질문내용_nouns</th>\n",
              "      <th>답변내용</th>\n",
              "      <th>답변내용_nouns</th>\n",
              "      <th>최상위기관명</th>\n",
              "      <th>분야명</th>\n",
              "      <th>담당부서명</th>\n",
              "      <th>월</th>\n",
              "      <th>일</th>\n",
              "      <th>오전오후</th>\n",
              "      <th>시간</th>\n",
              "    </tr>\n",
              "  </thead>\n",
              "  <tbody>\n",
              "    <tr>\n",
              "      <th>0</th>\n",
              "      <td>의성군 귀농귀촌 정책 문의</td>\n",
              "      <td>[의성군, 귀농, 귀촌, 정책, 문의]</td>\n",
              "      <td>의성군 귀농귀촌 정책 문의</td>\n",
              "      <td>[의성군, 귀농, 귀촌, 정책, 문의]</td>\n",
              "      <td>우선 저희 의성군으로 귀농귀촌하고자 하셔서 감사합니다 귀농귀촌 지원정책을 설명하기에...</td>\n",
              "      <td>[우선, 저희, 의성군, 귀농, 귀촌, 고자, 귀농, 귀촌, 정책, 설명, 앞서, ...</td>\n",
              "      <td>경상북도 의성군</td>\n",
              "      <td>행정/자치/안전</td>\n",
              "      <td>농업기술센터</td>\n",
              "      <td>08</td>\n",
              "      <td>27</td>\n",
              "      <td>오후</td>\n",
              "      <td>3:31:44</td>\n",
              "    </tr>\n",
              "    <tr>\n",
              "      <th>1</th>\n",
              "      <td>불법주정차 신고합니다</td>\n",
              "      <td>[불법, 정차, 신고]</td>\n",
              "      <td>대 불법주정차 과태료 부과 대상</td>\n",
              "      <td>[불법, 정차, 과태료, 부과, 대상]</td>\n",
              "      <td>귀하의 가정에 평안함과 행복을 기원합니다 귀하께서 국민신문고로 요청하신 사항에 대하...</td>\n",
              "      <td>[귀하, 가정, 행복, 기원, 귀하, 국민신문고, 요청, 사항, 대하, 다음, 선진...</td>\n",
              "      <td>경상북도 의성군</td>\n",
              "      <td>행정/자치/안전</td>\n",
              "      <td>일자리창출과</td>\n",
              "      <td>08</td>\n",
              "      <td>27</td>\n",
              "      <td>오후</td>\n",
              "      <td>1:49:33</td>\n",
              "    </tr>\n",
              "    <tr>\n",
              "      <th>2</th>\n",
              "      <td>아동수당 지급 대상</td>\n",
              "      <td>[아동, 수당, 지급, 대상]</td>\n",
              "      <td>아동수당 지급 대상이 궁금합니다</td>\n",
              "      <td>[아동, 수당, 지급, 대상]</td>\n",
              "      <td>안녕하십니까 귀하께서 문의하신 질의에 대한 답변을 다음과 같이 알려드립니다 귀하의 ...</td>\n",
              "      <td>[안녕하십니까, 귀하, 문의, 질의, 대한, 답변, 다음, 귀하, 질의, 내용, 아...</td>\n",
              "      <td>경상북도 의성군</td>\n",
              "      <td>행정/자치/안전</td>\n",
              "      <td>복지과</td>\n",
              "      <td>08</td>\n",
              "      <td>27</td>\n",
              "      <td>오후</td>\n",
              "      <td>4:19:51</td>\n",
              "    </tr>\n",
              "    <tr>\n",
              "      <th>3</th>\n",
              "      <td>광견병 예방 접종 관련 문의</td>\n",
              "      <td>[광견병, 예방, 접종, 관련, 문의]</td>\n",
              "      <td>광견병 예방접종 질문사항 의성군에서 광견병 접종 예방 계획이 있으신지요 있다면 기간...</td>\n",
              "      <td>[광견병, 예방접종, 질문, 사항, 의성군, 광견병, 접종, 예방, 계획, 신지, ...</td>\n",
              "      <td>안녕하십니까 귀하께서 국민신문고를 통해 신청하신 민원에 대한 검토 결과를 다음과 같...</td>\n",
              "      <td>[안녕하십니까, 귀하, 국민신문고, 통해, 신청, 민원, 대한, 검토, 결과, 다음...</td>\n",
              "      <td>경상북도 의성군</td>\n",
              "      <td>행정/자치/안전</td>\n",
              "      <td>농축산과</td>\n",
              "      <td>08</td>\n",
              "      <td>27</td>\n",
              "      <td>오후</td>\n",
              "      <td>4:18:09</td>\n",
              "    </tr>\n",
              "    <tr>\n",
              "      <th>4</th>\n",
              "      <td>아동수당 지급 금액과 지급 일자</td>\n",
              "      <td>[아동, 수당, 지급, 금액, 지급, 일자]</td>\n",
              "      <td>아동수당 지급 금액과 지급 일자가 궁금합니다</td>\n",
              "      <td>[아동, 수당, 지급, 금액, 지급, 일자]</td>\n",
              "      <td>안녕하십니까 귀하께서 문의하신 질의에 대한 답변을 다음과 같이 알려드립니다 귀하의 ...</td>\n",
              "      <td>[안녕하십니까, 귀하, 문의, 질의, 대한, 답변, 다음, 귀하, 질의, 내용, 아...</td>\n",
              "      <td>경상북도 의성군</td>\n",
              "      <td>행정/자치/안전</td>\n",
              "      <td>복지과</td>\n",
              "      <td>08</td>\n",
              "      <td>27</td>\n",
              "      <td>오후</td>\n",
              "      <td>4:24:24</td>\n",
              "    </tr>\n",
              "  </tbody>\n",
              "</table>\n",
              "</div>"
            ],
            "text/plain": [
              "                  제목                  제목_nouns  ... 오전오후       시간\n",
              "0     의성군 귀농귀촌 정책 문의     [의성군, 귀농, 귀촌, 정책, 문의]  ...   오후  3:31:44\n",
              "1        불법주정차 신고합니다              [불법, 정차, 신고]  ...   오후  1:49:33\n",
              "2         아동수당 지급 대상          [아동, 수당, 지급, 대상]  ...   오후  4:19:51\n",
              "3    광견병 예방 접종 관련 문의     [광견병, 예방, 접종, 관련, 문의]  ...   오후  4:18:09\n",
              "4  아동수당 지급 금액과 지급 일자  [아동, 수당, 지급, 금액, 지급, 일자]  ...   오후  4:24:24\n",
              "\n",
              "[5 rows x 13 columns]"
            ]
          },
          "metadata": {},
          "execution_count": 26
        }
      ]
    },
    {
      "cell_type": "code",
      "metadata": {
        "id": "3b_VhMO-f_NW"
      },
      "source": [
        "import pickle\n",
        "import gzip\n",
        "\n",
        "# save and compress.\n",
        "with gzip.open('/content/mnt/Shareddrives/2021민원/데이터/clean_data3.pickle', 'wb') as f:\n",
        "    pickle.dump(data, f)"
      ],
      "execution_count": null,
      "outputs": []
    },
    {
      "cell_type": "code",
      "metadata": {
        "id": "QSWgu8RAjlLw"
      },
      "source": [
        "# load and uncompress.\n",
        "with gzip.open('/content/mnt/Shareddrives/2021민원/데이터/clean_data3.pickle','rb') as f:\n",
        "    data2 = pickle.load(f)"
      ],
      "execution_count": null,
      "outputs": []
    },
    {
      "cell_type": "code",
      "metadata": {
        "colab": {
          "base_uri": "https://localhost:8080/",
          "height": 502
        },
        "id": "h8pZjiFMwcK_",
        "outputId": "c33291bb-82fc-4cd7-90f0-1b0da1d6758e"
      },
      "source": [
        "data2.head()"
      ],
      "execution_count": null,
      "outputs": [
        {
          "output_type": "execute_result",
          "data": {
            "text/html": [
              "<div>\n",
              "<style scoped>\n",
              "    .dataframe tbody tr th:only-of-type {\n",
              "        vertical-align: middle;\n",
              "    }\n",
              "\n",
              "    .dataframe tbody tr th {\n",
              "        vertical-align: top;\n",
              "    }\n",
              "\n",
              "    .dataframe thead th {\n",
              "        text-align: right;\n",
              "    }\n",
              "</style>\n",
              "<table border=\"1\" class=\"dataframe\">\n",
              "  <thead>\n",
              "    <tr style=\"text-align: right;\">\n",
              "      <th></th>\n",
              "      <th>제목</th>\n",
              "      <th>제목_nouns</th>\n",
              "      <th>질문내용</th>\n",
              "      <th>질문내용_nouns</th>\n",
              "      <th>답변내용</th>\n",
              "      <th>답변내용_nouns</th>\n",
              "      <th>최상위기관명</th>\n",
              "      <th>분야명</th>\n",
              "      <th>담당부서명</th>\n",
              "      <th>월</th>\n",
              "      <th>일</th>\n",
              "      <th>오전오후</th>\n",
              "      <th>시간</th>\n",
              "    </tr>\n",
              "  </thead>\n",
              "  <tbody>\n",
              "    <tr>\n",
              "      <th>0</th>\n",
              "      <td>의성군 귀농귀촌 정책 문의</td>\n",
              "      <td>[의성군, 귀농, 귀촌, 정책, 문의]</td>\n",
              "      <td>의성군 귀농귀촌 정책 문의</td>\n",
              "      <td>[의성군, 귀농, 귀촌, 정책, 문의]</td>\n",
              "      <td>우선 저희 의성군으로 귀농귀촌하고자 하셔서 감사합니다 귀농귀촌 지원정책을 설명하기에...</td>\n",
              "      <td>[우선, 저희, 의성군, 귀농, 귀촌, 고자, 귀농, 귀촌, 정책, 설명, 앞서, ...</td>\n",
              "      <td>경상북도 의성군</td>\n",
              "      <td>행정/자치/안전</td>\n",
              "      <td>농업기술센터</td>\n",
              "      <td>08</td>\n",
              "      <td>27</td>\n",
              "      <td>오후</td>\n",
              "      <td>3:31:44</td>\n",
              "    </tr>\n",
              "    <tr>\n",
              "      <th>1</th>\n",
              "      <td>불법주정차 신고합니다</td>\n",
              "      <td>[불법, 정차, 신고]</td>\n",
              "      <td>대 불법주정차 과태료 부과 대상</td>\n",
              "      <td>[불법, 정차, 과태료, 부과, 대상]</td>\n",
              "      <td>귀하의 가정에 평안함과 행복을 기원합니다 귀하께서 국민신문고로 요청하신 사항에 대하...</td>\n",
              "      <td>[귀하, 가정, 행복, 기원, 귀하, 국민신문고, 요청, 사항, 대하, 다음, 선진...</td>\n",
              "      <td>경상북도 의성군</td>\n",
              "      <td>행정/자치/안전</td>\n",
              "      <td>일자리창출과</td>\n",
              "      <td>08</td>\n",
              "      <td>27</td>\n",
              "      <td>오후</td>\n",
              "      <td>1:49:33</td>\n",
              "    </tr>\n",
              "    <tr>\n",
              "      <th>2</th>\n",
              "      <td>아동수당 지급 대상</td>\n",
              "      <td>[아동, 수당, 지급, 대상]</td>\n",
              "      <td>아동수당 지급 대상이 궁금합니다</td>\n",
              "      <td>[아동, 수당, 지급, 대상]</td>\n",
              "      <td>안녕하십니까 귀하께서 문의하신 질의에 대한 답변을 다음과 같이 알려드립니다 귀하의 ...</td>\n",
              "      <td>[안녕하십니까, 귀하, 문의, 질의, 대한, 답변, 다음, 귀하, 질의, 내용, 아...</td>\n",
              "      <td>경상북도 의성군</td>\n",
              "      <td>행정/자치/안전</td>\n",
              "      <td>복지과</td>\n",
              "      <td>08</td>\n",
              "      <td>27</td>\n",
              "      <td>오후</td>\n",
              "      <td>4:19:51</td>\n",
              "    </tr>\n",
              "    <tr>\n",
              "      <th>3</th>\n",
              "      <td>광견병 예방 접종 관련 문의</td>\n",
              "      <td>[광견병, 예방, 접종, 관련, 문의]</td>\n",
              "      <td>광견병 예방접종 질문사항 의성군에서 광견병 접종 예방 계획이 있으신지요 있다면 기간...</td>\n",
              "      <td>[광견병, 예방접종, 질문, 사항, 의성군, 광견병, 접종, 예방, 계획, 신지, ...</td>\n",
              "      <td>안녕하십니까 귀하께서 국민신문고를 통해 신청하신 민원에 대한 검토 결과를 다음과 같...</td>\n",
              "      <td>[안녕하십니까, 귀하, 국민신문고, 통해, 신청, 민원, 대한, 검토, 결과, 다음...</td>\n",
              "      <td>경상북도 의성군</td>\n",
              "      <td>행정/자치/안전</td>\n",
              "      <td>농축산과</td>\n",
              "      <td>08</td>\n",
              "      <td>27</td>\n",
              "      <td>오후</td>\n",
              "      <td>4:18:09</td>\n",
              "    </tr>\n",
              "    <tr>\n",
              "      <th>4</th>\n",
              "      <td>아동수당 지급 금액과 지급 일자</td>\n",
              "      <td>[아동, 수당, 지급, 금액, 지급, 일자]</td>\n",
              "      <td>아동수당 지급 금액과 지급 일자가 궁금합니다</td>\n",
              "      <td>[아동, 수당, 지급, 금액, 지급, 일자]</td>\n",
              "      <td>안녕하십니까 귀하께서 문의하신 질의에 대한 답변을 다음과 같이 알려드립니다 귀하의 ...</td>\n",
              "      <td>[안녕하십니까, 귀하, 문의, 질의, 대한, 답변, 다음, 귀하, 질의, 내용, 아...</td>\n",
              "      <td>경상북도 의성군</td>\n",
              "      <td>행정/자치/안전</td>\n",
              "      <td>복지과</td>\n",
              "      <td>08</td>\n",
              "      <td>27</td>\n",
              "      <td>오후</td>\n",
              "      <td>4:24:24</td>\n",
              "    </tr>\n",
              "  </tbody>\n",
              "</table>\n",
              "</div>"
            ],
            "text/plain": [
              "                  제목                  제목_nouns  ... 오전오후       시간\n",
              "0     의성군 귀농귀촌 정책 문의     [의성군, 귀농, 귀촌, 정책, 문의]  ...   오후  3:31:44\n",
              "1        불법주정차 신고합니다              [불법, 정차, 신고]  ...   오후  1:49:33\n",
              "2         아동수당 지급 대상          [아동, 수당, 지급, 대상]  ...   오후  4:19:51\n",
              "3    광견병 예방 접종 관련 문의     [광견병, 예방, 접종, 관련, 문의]  ...   오후  4:18:09\n",
              "4  아동수당 지급 금액과 지급 일자  [아동, 수당, 지급, 금액, 지급, 일자]  ...   오후  4:24:24\n",
              "\n",
              "[5 rows x 13 columns]"
            ]
          },
          "metadata": {},
          "execution_count": 29
        }
      ]
    },
    {
      "cell_type": "code",
      "metadata": {
        "id": "XjKpaLqwqzwN"
      },
      "source": [
        ""
      ],
      "execution_count": null,
      "outputs": []
    },
    {
      "cell_type": "code",
      "metadata": {
        "id": "JSmglUDwqz1x"
      },
      "source": [
        ""
      ],
      "execution_count": null,
      "outputs": []
    }
  ]
}