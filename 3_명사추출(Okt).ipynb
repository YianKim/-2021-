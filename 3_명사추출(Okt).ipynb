{
  "nbformat": 4,
  "nbformat_minor": 0,
  "metadata": {
    "colab": {
      "name": "3. 명사추출(Okt).ipynb",
      "provenance": [],
      "collapsed_sections": [],
      "include_colab_link": true
    },
    "kernelspec": {
      "name": "python3",
      "display_name": "Python 3"
    },
    "language_info": {
      "name": "python"
    }
  },
  "cells": [
    {
      "cell_type": "markdown",
      "metadata": {
        "id": "view-in-github",
        "colab_type": "text"
      },
      "source": [
        "<a href=\"https://colab.research.google.com/github/YianKim/Complaints-NLP-Visualization-2021/blob/main/3_%EB%AA%85%EC%82%AC%EC%B6%94%EC%B6%9C(Okt).ipynb\" target=\"_parent\"><img src=\"https://colab.research.google.com/assets/colab-badge.svg\" alt=\"Open In Colab\"/></a>"
      ]
    },
    {
      "cell_type": "code",
      "metadata": {
        "colab": {
          "base_uri": "https://localhost:8080/"
        },
        "id": "6hodP1iMoyh9",
        "outputId": "2c8cd555-095f-43d6-9455-62327d49dac6"
      },
      "source": [
        "import os, sys \n",
        "from google.colab import drive \n",
        "drive.mount('/content/mnt') \n",
        "nb_path = '/content/notebooks' \n",
        "os.symlink('/content/mnt/My Drive/Colab Notebooks', nb_path) \n",
        "sys.path.insert(0, nb_path)"
      ],
      "execution_count": null,
      "outputs": [
        {
          "output_type": "stream",
          "name": "stdout",
          "text": [
            "Mounted at /content/mnt\n"
          ]
        }
      ]
    },
    {
      "cell_type": "code",
      "metadata": {
        "id": "zTPYoGHNo3uU"
      },
      "source": [
        "import numpy as np \n",
        "import pandas as pd \n",
        "import seaborn as sns\n",
        "import matplotlib.pyplot as plt"
      ],
      "execution_count": null,
      "outputs": []
    },
    {
      "cell_type": "code",
      "metadata": {
        "colab": {
          "base_uri": "https://localhost:8080/",
          "height": 302
        },
        "id": "z8_LTmW5o3xP",
        "outputId": "17df720b-23c6-4551-ef6a-bb842b358a0a"
      },
      "source": [
        "data = pd.read_csv(\"/content/mnt/Shareddrives/2021민원/데이터/clean_data2.csv\")\n",
        "data.head()"
      ],
      "execution_count": null,
      "outputs": [
        {
          "output_type": "execute_result",
          "data": {
            "text/html": [
              "<div>\n",
              "<style scoped>\n",
              "    .dataframe tbody tr th:only-of-type {\n",
              "        vertical-align: middle;\n",
              "    }\n",
              "\n",
              "    .dataframe tbody tr th {\n",
              "        vertical-align: top;\n",
              "    }\n",
              "\n",
              "    .dataframe thead th {\n",
              "        text-align: right;\n",
              "    }\n",
              "</style>\n",
              "<table border=\"1\" class=\"dataframe\">\n",
              "  <thead>\n",
              "    <tr style=\"text-align: right;\">\n",
              "      <th></th>\n",
              "      <th>제목</th>\n",
              "      <th>질문내용</th>\n",
              "      <th>답변내용</th>\n",
              "      <th>최상위기관명</th>\n",
              "      <th>분야명</th>\n",
              "      <th>담당부서명</th>\n",
              "      <th>연</th>\n",
              "      <th>월</th>\n",
              "      <th>일</th>\n",
              "      <th>오전오후</th>\n",
              "      <th>시간</th>\n",
              "    </tr>\n",
              "  </thead>\n",
              "  <tbody>\n",
              "    <tr>\n",
              "      <th>0</th>\n",
              "      <td>의성군 귀농귀촌 정책 문의</td>\n",
              "      <td>의성군 귀농귀촌 정책 문의</td>\n",
              "      <td>우선 저희 의성군으로 귀농귀촌하고자 하셔서 감사합니다 귀농귀촌 지원정책을 설명하기에...</td>\n",
              "      <td>경상북도 의성군</td>\n",
              "      <td>행정/자치/안전</td>\n",
              "      <td>농업기술센터</td>\n",
              "      <td>2021</td>\n",
              "      <td>08</td>\n",
              "      <td>27</td>\n",
              "      <td>오후</td>\n",
              "      <td>3:31:44</td>\n",
              "    </tr>\n",
              "    <tr>\n",
              "      <th>1</th>\n",
              "      <td>불법주정차 신고합니다</td>\n",
              "      <td>대 불법주정차 과태료 부과 대상</td>\n",
              "      <td>귀하의 가정에 평안함과 행복을 기원합니다 귀하께서 국민신문고로 요청하신 사항에 대하...</td>\n",
              "      <td>경상북도 의성군</td>\n",
              "      <td>행정/자치/안전</td>\n",
              "      <td>일자리창출과</td>\n",
              "      <td>2021</td>\n",
              "      <td>08</td>\n",
              "      <td>27</td>\n",
              "      <td>오후</td>\n",
              "      <td>1:49:33</td>\n",
              "    </tr>\n",
              "    <tr>\n",
              "      <th>2</th>\n",
              "      <td>아동수당 지급 대상</td>\n",
              "      <td>아동수당 지급 대상이 궁금합니다</td>\n",
              "      <td>안녕하십니까 귀하께서 문의하신 질의에 대한 답변을 다음과 같이 알려드립니다 귀하의 ...</td>\n",
              "      <td>경상북도 의성군</td>\n",
              "      <td>행정/자치/안전</td>\n",
              "      <td>복지과</td>\n",
              "      <td>2021</td>\n",
              "      <td>08</td>\n",
              "      <td>27</td>\n",
              "      <td>오후</td>\n",
              "      <td>4:19:51</td>\n",
              "    </tr>\n",
              "    <tr>\n",
              "      <th>3</th>\n",
              "      <td>광견병 예방 접종 관련 문의</td>\n",
              "      <td>광견병 예방접종 질문사항 의성군에서 광견병 접종 예방 계획이 있으신지요 있다면 기간...</td>\n",
              "      <td>안녕하십니까 귀하께서 국민신문고를 통해 신청하신 민원에 대한 검토 결과를 다음과 같...</td>\n",
              "      <td>경상북도 의성군</td>\n",
              "      <td>행정/자치/안전</td>\n",
              "      <td>농축산과</td>\n",
              "      <td>2021</td>\n",
              "      <td>08</td>\n",
              "      <td>27</td>\n",
              "      <td>오후</td>\n",
              "      <td>4:18:09</td>\n",
              "    </tr>\n",
              "    <tr>\n",
              "      <th>4</th>\n",
              "      <td>아동수당 지급 금액과 지급 일자</td>\n",
              "      <td>아동수당 지급 금액과 지급 일자가 궁금합니다</td>\n",
              "      <td>안녕하십니까 귀하께서 문의하신 질의에 대한 답변을 다음과 같이 알려드립니다 귀하의 ...</td>\n",
              "      <td>경상북도 의성군</td>\n",
              "      <td>행정/자치/안전</td>\n",
              "      <td>복지과</td>\n",
              "      <td>2021</td>\n",
              "      <td>08</td>\n",
              "      <td>27</td>\n",
              "      <td>오후</td>\n",
              "      <td>4:24:24</td>\n",
              "    </tr>\n",
              "  </tbody>\n",
              "</table>\n",
              "</div>"
            ],
            "text/plain": [
              "                  제목  ...       시간\n",
              "0     의성군 귀농귀촌 정책 문의  ...  3:31:44\n",
              "1        불법주정차 신고합니다  ...  1:49:33\n",
              "2         아동수당 지급 대상  ...  4:19:51\n",
              "3    광견병 예방 접종 관련 문의  ...  4:18:09\n",
              "4  아동수당 지급 금액과 지급 일자  ...  4:24:24\n",
              "\n",
              "[5 rows x 11 columns]"
            ]
          },
          "metadata": {},
          "execution_count": 3
        }
      ]
    },
    {
      "cell_type": "code",
      "metadata": {
        "colab": {
          "base_uri": "https://localhost:8080/"
        },
        "id": "hkOMz2ggo30F",
        "outputId": "f15da47b-e0f0-43fa-aa57-219d81bebb7e"
      },
      "source": [
        "data['최상위기관명'].value_counts()"
      ],
      "execution_count": null,
      "outputs": [
        {
          "output_type": "execute_result",
          "data": {
            "text/plain": [
              "해양수산부       7208\n",
              "국토교통부       4638\n",
              "국세청         2622\n",
              "서울특별시교육청    2415\n",
              "방송통신위원회     2236\n",
              "            ... \n",
              "전라북도 군산시       1\n",
              "고용노동부          1\n",
              "전라남도           1\n",
              "전라남도 구례군       1\n",
              "전라북도 김제시       1\n",
              "Name: 최상위기관명, Length: 174, dtype: int64"
            ]
          },
          "metadata": {},
          "execution_count": 5
        }
      ]
    },
    {
      "cell_type": "code",
      "metadata": {
        "colab": {
          "base_uri": "https://localhost:8080/"
        },
        "id": "HoqaRCU5o35Z",
        "outputId": "3f5939af-7154-41d8-98a5-657bb9d97609"
      },
      "source": [
        "data['분야명'].value_counts()"
      ],
      "execution_count": null,
      "outputs": [
        {
          "output_type": "execute_result",
          "data": {
            "text/plain": [
              "행정/자치/안전       18253\n",
              "국토/교통/농림/해양    13117\n",
              "교육/문화/체육/관광    11109\n",
              "재정/금융/소비자       5003\n",
              "산업/방송/통신/과학     2995\n",
              "국방/보훈/외교/통일     2216\n",
              "노동/환경           1772\n",
              "법제/사법           1414\n",
              "식품의약품            783\n",
              "기타               587\n",
              "Name: 분야명, dtype: int64"
            ]
          },
          "metadata": {},
          "execution_count": 6
        }
      ]
    },
    {
      "cell_type": "code",
      "metadata": {
        "colab": {
          "base_uri": "https://localhost:8080/"
        },
        "id": "tILYz0fXo38C",
        "outputId": "690858fc-7b07-4a58-cfa9-84e0b8dbff65"
      },
      "source": [
        "data['담당부서명'].value_counts()"
      ],
      "execution_count": null,
      "outputs": [
        {
          "output_type": "execute_result",
          "data": {
            "text/plain": [
              "납세자보호담당관       2509\n",
              "운영지원과          2260\n",
              "감사담당관          1791\n",
              "행정법무담당관        1777\n",
              "민원여권과          1722\n",
              "               ... \n",
              "난대산림연구소           1\n",
              "공훈발굴과             1\n",
              "시민의숲1963추진단       1\n",
              "교육연수과             1\n",
              "노인복지과             1\n",
              "Name: 담당부서명, Length: 1404, dtype: int64"
            ]
          },
          "metadata": {},
          "execution_count": 7
        }
      ]
    },
    {
      "cell_type": "code",
      "metadata": {
        "colab": {
          "base_uri": "https://localhost:8080/"
        },
        "id": "__PA4MB3o3-1",
        "outputId": "12bf583f-bf31-495d-fed8-4a7f69b9e5a8"
      },
      "source": [
        "pip install konlpy"
      ],
      "execution_count": null,
      "outputs": [
        {
          "output_type": "stream",
          "name": "stdout",
          "text": [
            "Collecting konlpy\n",
            "  Downloading konlpy-0.5.2-py2.py3-none-any.whl (19.4 MB)\n",
            "\u001b[K     |████████████████████████████████| 19.4 MB 1.1 MB/s \n",
            "\u001b[?25hCollecting colorama\n",
            "  Downloading colorama-0.4.4-py2.py3-none-any.whl (16 kB)\n",
            "Requirement already satisfied: lxml>=4.1.0 in /usr/local/lib/python3.7/dist-packages (from konlpy) (4.2.6)\n",
            "Requirement already satisfied: tweepy>=3.7.0 in /usr/local/lib/python3.7/dist-packages (from konlpy) (3.10.0)\n",
            "Requirement already satisfied: numpy>=1.6 in /usr/local/lib/python3.7/dist-packages (from konlpy) (1.19.5)\n",
            "Collecting JPype1>=0.7.0\n",
            "  Downloading JPype1-1.3.0-cp37-cp37m-manylinux_2_5_x86_64.manylinux1_x86_64.whl (448 kB)\n",
            "\u001b[K     |████████████████████████████████| 448 kB 69.8 MB/s \n",
            "\u001b[?25hCollecting beautifulsoup4==4.6.0\n",
            "  Downloading beautifulsoup4-4.6.0-py3-none-any.whl (86 kB)\n",
            "\u001b[K     |████████████████████████████████| 86 kB 5.1 MB/s \n",
            "\u001b[?25hRequirement already satisfied: typing-extensions in /usr/local/lib/python3.7/dist-packages (from JPype1>=0.7.0->konlpy) (3.10.0.2)\n",
            "Requirement already satisfied: six>=1.10.0 in /usr/local/lib/python3.7/dist-packages (from tweepy>=3.7.0->konlpy) (1.15.0)\n",
            "Requirement already satisfied: requests[socks]>=2.11.1 in /usr/local/lib/python3.7/dist-packages (from tweepy>=3.7.0->konlpy) (2.23.0)\n",
            "Requirement already satisfied: requests-oauthlib>=0.7.0 in /usr/local/lib/python3.7/dist-packages (from tweepy>=3.7.0->konlpy) (1.3.0)\n",
            "Requirement already satisfied: oauthlib>=3.0.0 in /usr/local/lib/python3.7/dist-packages (from requests-oauthlib>=0.7.0->tweepy>=3.7.0->konlpy) (3.1.1)\n",
            "Requirement already satisfied: idna<3,>=2.5 in /usr/local/lib/python3.7/dist-packages (from requests[socks]>=2.11.1->tweepy>=3.7.0->konlpy) (2.10)\n",
            "Requirement already satisfied: chardet<4,>=3.0.2 in /usr/local/lib/python3.7/dist-packages (from requests[socks]>=2.11.1->tweepy>=3.7.0->konlpy) (3.0.4)\n",
            "Requirement already satisfied: certifi>=2017.4.17 in /usr/local/lib/python3.7/dist-packages (from requests[socks]>=2.11.1->tweepy>=3.7.0->konlpy) (2021.10.8)\n",
            "Requirement already satisfied: urllib3!=1.25.0,!=1.25.1,<1.26,>=1.21.1 in /usr/local/lib/python3.7/dist-packages (from requests[socks]>=2.11.1->tweepy>=3.7.0->konlpy) (1.24.3)\n",
            "Requirement already satisfied: PySocks!=1.5.7,>=1.5.6 in /usr/local/lib/python3.7/dist-packages (from requests[socks]>=2.11.1->tweepy>=3.7.0->konlpy) (1.7.1)\n",
            "Installing collected packages: JPype1, colorama, beautifulsoup4, konlpy\n",
            "  Attempting uninstall: beautifulsoup4\n",
            "    Found existing installation: beautifulsoup4 4.6.3\n",
            "    Uninstalling beautifulsoup4-4.6.3:\n",
            "      Successfully uninstalled beautifulsoup4-4.6.3\n",
            "Successfully installed JPype1-1.3.0 beautifulsoup4-4.6.0 colorama-0.4.4 konlpy-0.5.2\n"
          ]
        }
      ]
    },
    {
      "cell_type": "code",
      "metadata": {
        "id": "1GHUbyLCqzh5"
      },
      "source": [
        "from konlpy.tag import Okt\n",
        "\n",
        "okt = Okt()"
      ],
      "execution_count": null,
      "outputs": []
    },
    {
      "cell_type": "code",
      "metadata": {
        "id": "8HSBuybKiyx3"
      },
      "source": [
        "#텍스트 데이터를 리스트로 변환\n",
        "Data_list = data.제목.values.tolist()\n",
        "data['제목_nouns'] = data['제목'].copy()\n",
        "\n",
        "#리스트를 요소별로(트윗 하나) 가져와서 명사만 추출한 후 리스트로 저장\n",
        "# data_word=[]\n",
        "for i in range(len(Data_list)):\n",
        "    try:\n",
        "        # data_word.append(okt.nouns(Data_list[i]))\n",
        "        data.loc[i,'제목_nouns'] = okt.nouns(Data_list[i])\n",
        "    except Exception as e:\n",
        "        continue\n",
        "\n",
        "#트윗에서 명사만 추출해서 만든 리스트\n",
        "# data_word"
      ],
      "execution_count": null,
      "outputs": []
    },
    {
      "cell_type": "code",
      "metadata": {
        "id": "7qExOHElqzlI"
      },
      "source": [
        "#텍스트 데이터를 리스트로 변환\n",
        "Data_list = data.질문내용.values.tolist()\n",
        "data['질문내용_nouns'] = data['질문내용'].copy()\n",
        "\n",
        "#리스트를 요소별로(트윗 하나) 가져와서 명사만 추출한 후 리스트로 저장\n",
        "# data_word=[]\n",
        "for i in range(len(Data_list)):\n",
        "    try:\n",
        "        # data_word.append(okt.nouns(Data_list[i]))\n",
        "        data.loc[i,'질문내용_nouns'] = okt.nouns(Data_list[i])\n",
        "    except Exception as e:\n",
        "        continue\n",
        "\n",
        "#트윗에서 명사만 추출해서 만든 리스트\n",
        "# data_word"
      ],
      "execution_count": null,
      "outputs": []
    },
    {
      "cell_type": "code",
      "metadata": {
        "id": "KeRcQbegkoKC"
      },
      "source": [
        "#텍스트 데이터를 리스트로 변환\n",
        "Data_list = data.답변내용.values.tolist()\n",
        "data['답변내용_nouns'] = data['답변내용'].copy()\n",
        "\n",
        "#리스트를 요소별로(트윗 하나) 가져와서 명사만 추출한 후 리스트로 저장\n",
        "# data_word=[]\n",
        "for i in range(len(Data_list)):\n",
        "    try:\n",
        "        # data_word.append(okt.nouns(Data_list[i]))\n",
        "        data.loc[i,'답변내용_nouns'] = okt.nouns(Data_list[i])\n",
        "    except Exception as e:\n",
        "        continue\n",
        "\n",
        "#트윗에서 명사만 추출해서 만든 리스트\n",
        "# data_word"
      ],
      "execution_count": null,
      "outputs": []
    },
    {
      "cell_type": "code",
      "metadata": {
        "colab": {
          "base_uri": "https://localhost:8080/",
          "height": 402
        },
        "id": "0c_Uhw6fk2Fo",
        "outputId": "51668a80-3c1d-45ef-f4df-6cea5749007a"
      },
      "source": [
        "data = data[['제목', '제목_nouns', '질문내용', '질문내용_nouns', '답변내용', '답변내용_nouns', '최상위기관명', '분야명', '담당부서명', '월', '일', '오전오후', '시간']]\n",
        "data.head()"
      ],
      "execution_count": null,
      "outputs": [
        {
          "output_type": "execute_result",
          "data": {
            "text/html": [
              "<div>\n",
              "<style scoped>\n",
              "    .dataframe tbody tr th:only-of-type {\n",
              "        vertical-align: middle;\n",
              "    }\n",
              "\n",
              "    .dataframe tbody tr th {\n",
              "        vertical-align: top;\n",
              "    }\n",
              "\n",
              "    .dataframe thead th {\n",
              "        text-align: right;\n",
              "    }\n",
              "</style>\n",
              "<table border=\"1\" class=\"dataframe\">\n",
              "  <thead>\n",
              "    <tr style=\"text-align: right;\">\n",
              "      <th></th>\n",
              "      <th>제목</th>\n",
              "      <th>제목_nouns</th>\n",
              "      <th>질문내용</th>\n",
              "      <th>질문내용_nouns</th>\n",
              "      <th>답변내용</th>\n",
              "      <th>답변내용_nouns</th>\n",
              "      <th>최상위기관명</th>\n",
              "      <th>분야명</th>\n",
              "      <th>담당부서명</th>\n",
              "      <th>월</th>\n",
              "      <th>일</th>\n",
              "      <th>오전오후</th>\n",
              "      <th>시간</th>\n",
              "    </tr>\n",
              "  </thead>\n",
              "  <tbody>\n",
              "    <tr>\n",
              "      <th>0</th>\n",
              "      <td>의성군 귀농귀촌 정책 문의</td>\n",
              "      <td>[의성군, 귀농, 귀촌, 정책, 문의]</td>\n",
              "      <td>의성군 귀농귀촌 정책 문의</td>\n",
              "      <td>[의성군, 귀농, 귀촌, 정책, 문의]</td>\n",
              "      <td>우선 저희 의성군으로 귀농귀촌하고자 하셔서 감사합니다 귀농귀촌 지원정책을 설명하기에...</td>\n",
              "      <td>[우선, 저희, 의성군, 귀농, 귀촌, 고자, 귀농, 귀촌, 정책, 설명, 앞서, ...</td>\n",
              "      <td>경상북도 의성군</td>\n",
              "      <td>행정/자치/안전</td>\n",
              "      <td>농업기술센터</td>\n",
              "      <td>08</td>\n",
              "      <td>27</td>\n",
              "      <td>오후</td>\n",
              "      <td>3:31:44</td>\n",
              "    </tr>\n",
              "    <tr>\n",
              "      <th>1</th>\n",
              "      <td>불법주정차 신고합니다</td>\n",
              "      <td>[불법, 정차, 신고]</td>\n",
              "      <td>대 불법주정차 과태료 부과 대상</td>\n",
              "      <td>[불법, 정차, 과태료, 부과, 대상]</td>\n",
              "      <td>귀하의 가정에 평안함과 행복을 기원합니다 귀하께서 국민신문고로 요청하신 사항에 대하...</td>\n",
              "      <td>[귀하, 가정, 행복, 기원, 귀하, 국민신문고, 요청, 사항, 대하, 다음, 선진...</td>\n",
              "      <td>경상북도 의성군</td>\n",
              "      <td>행정/자치/안전</td>\n",
              "      <td>일자리창출과</td>\n",
              "      <td>08</td>\n",
              "      <td>27</td>\n",
              "      <td>오후</td>\n",
              "      <td>1:49:33</td>\n",
              "    </tr>\n",
              "    <tr>\n",
              "      <th>2</th>\n",
              "      <td>아동수당 지급 대상</td>\n",
              "      <td>[아동, 수당, 지급, 대상]</td>\n",
              "      <td>아동수당 지급 대상이 궁금합니다</td>\n",
              "      <td>[아동, 수당, 지급, 대상]</td>\n",
              "      <td>안녕하십니까 귀하께서 문의하신 질의에 대한 답변을 다음과 같이 알려드립니다 귀하의 ...</td>\n",
              "      <td>[안녕하십니까, 귀하, 문의, 질의, 대한, 답변, 다음, 귀하, 질의, 내용, 아...</td>\n",
              "      <td>경상북도 의성군</td>\n",
              "      <td>행정/자치/안전</td>\n",
              "      <td>복지과</td>\n",
              "      <td>08</td>\n",
              "      <td>27</td>\n",
              "      <td>오후</td>\n",
              "      <td>4:19:51</td>\n",
              "    </tr>\n",
              "    <tr>\n",
              "      <th>3</th>\n",
              "      <td>광견병 예방 접종 관련 문의</td>\n",
              "      <td>[광견병, 예방, 접종, 관련, 문의]</td>\n",
              "      <td>광견병 예방접종 질문사항 의성군에서 광견병 접종 예방 계획이 있으신지요 있다면 기간...</td>\n",
              "      <td>[광견병, 예방접종, 질문, 사항, 의성군, 광견병, 접종, 예방, 계획, 신지, ...</td>\n",
              "      <td>안녕하십니까 귀하께서 국민신문고를 통해 신청하신 민원에 대한 검토 결과를 다음과 같...</td>\n",
              "      <td>[안녕하십니까, 귀하, 국민신문고, 통해, 신청, 민원, 대한, 검토, 결과, 다음...</td>\n",
              "      <td>경상북도 의성군</td>\n",
              "      <td>행정/자치/안전</td>\n",
              "      <td>농축산과</td>\n",
              "      <td>08</td>\n",
              "      <td>27</td>\n",
              "      <td>오후</td>\n",
              "      <td>4:18:09</td>\n",
              "    </tr>\n",
              "    <tr>\n",
              "      <th>4</th>\n",
              "      <td>아동수당 지급 금액과 지급 일자</td>\n",
              "      <td>[아동, 수당, 지급, 금액, 지급, 일자]</td>\n",
              "      <td>아동수당 지급 금액과 지급 일자가 궁금합니다</td>\n",
              "      <td>[아동, 수당, 지급, 금액, 지급, 일자]</td>\n",
              "      <td>안녕하십니까 귀하께서 문의하신 질의에 대한 답변을 다음과 같이 알려드립니다 귀하의 ...</td>\n",
              "      <td>[안녕하십니까, 귀하, 문의, 질의, 대한, 답변, 다음, 귀하, 질의, 내용, 아...</td>\n",
              "      <td>경상북도 의성군</td>\n",
              "      <td>행정/자치/안전</td>\n",
              "      <td>복지과</td>\n",
              "      <td>08</td>\n",
              "      <td>27</td>\n",
              "      <td>오후</td>\n",
              "      <td>4:24:24</td>\n",
              "    </tr>\n",
              "  </tbody>\n",
              "</table>\n",
              "</div>"
            ],
            "text/plain": [
              "                  제목                  제목_nouns  ... 오전오후       시간\n",
              "0     의성군 귀농귀촌 정책 문의     [의성군, 귀농, 귀촌, 정책, 문의]  ...   오후  3:31:44\n",
              "1        불법주정차 신고합니다              [불법, 정차, 신고]  ...   오후  1:49:33\n",
              "2         아동수당 지급 대상          [아동, 수당, 지급, 대상]  ...   오후  4:19:51\n",
              "3    광견병 예방 접종 관련 문의     [광견병, 예방, 접종, 관련, 문의]  ...   오후  4:18:09\n",
              "4  아동수당 지급 금액과 지급 일자  [아동, 수당, 지급, 금액, 지급, 일자]  ...   오후  4:24:24\n",
              "\n",
              "[5 rows x 13 columns]"
            ]
          },
          "metadata": {},
          "execution_count": 14
        }
      ]
    },
    {
      "cell_type": "code",
      "metadata": {
        "id": "3b_VhMO-f_NW"
      },
      "source": [
        "import pickle\n",
        "import gzip\n",
        "\n",
        "# save and compress.\n",
        "with gzip.open('/content/mnt/Shareddrives/2021민원/데이터/clean_data_okt.pickle', 'wb') as f:\n",
        "    pickle.dump(data, f)"
      ],
      "execution_count": null,
      "outputs": []
    },
    {
      "cell_type": "code",
      "metadata": {
        "id": "QSWgu8RAjlLw"
      },
      "source": [
        "# load and uncompress.\n",
        "with gzip.open('/content/mnt/Shareddrives/2021민원/데이터/clean_data_okt.pickle','rb') as f:\n",
        "    data2 = pickle.load(f)"
      ],
      "execution_count": null,
      "outputs": []
    },
    {
      "cell_type": "code",
      "metadata": {
        "colab": {
          "base_uri": "https://localhost:8080/",
          "height": 502
        },
        "id": "h8pZjiFMwcK_",
        "outputId": "c33291bb-82fc-4cd7-90f0-1b0da1d6758e"
      },
      "source": [
        "data2.head()"
      ],
      "execution_count": null,
      "outputs": [
        {
          "output_type": "execute_result",
          "data": {
            "text/html": [
              "<div>\n",
              "<style scoped>\n",
              "    .dataframe tbody tr th:only-of-type {\n",
              "        vertical-align: middle;\n",
              "    }\n",
              "\n",
              "    .dataframe tbody tr th {\n",
              "        vertical-align: top;\n",
              "    }\n",
              "\n",
              "    .dataframe thead th {\n",
              "        text-align: right;\n",
              "    }\n",
              "</style>\n",
              "<table border=\"1\" class=\"dataframe\">\n",
              "  <thead>\n",
              "    <tr style=\"text-align: right;\">\n",
              "      <th></th>\n",
              "      <th>제목</th>\n",
              "      <th>제목_nouns</th>\n",
              "      <th>질문내용</th>\n",
              "      <th>질문내용_nouns</th>\n",
              "      <th>답변내용</th>\n",
              "      <th>답변내용_nouns</th>\n",
              "      <th>최상위기관명</th>\n",
              "      <th>분야명</th>\n",
              "      <th>담당부서명</th>\n",
              "      <th>월</th>\n",
              "      <th>일</th>\n",
              "      <th>오전오후</th>\n",
              "      <th>시간</th>\n",
              "    </tr>\n",
              "  </thead>\n",
              "  <tbody>\n",
              "    <tr>\n",
              "      <th>0</th>\n",
              "      <td>의성군 귀농귀촌 정책 문의</td>\n",
              "      <td>[의성군, 귀농, 귀촌, 정책, 문의]</td>\n",
              "      <td>의성군 귀농귀촌 정책 문의</td>\n",
              "      <td>[의성군, 귀농, 귀촌, 정책, 문의]</td>\n",
              "      <td>우선 저희 의성군으로 귀농귀촌하고자 하셔서 감사합니다 귀농귀촌 지원정책을 설명하기에...</td>\n",
              "      <td>[우선, 저희, 의성군, 귀농, 귀촌, 고자, 귀농, 귀촌, 정책, 설명, 앞서, ...</td>\n",
              "      <td>경상북도 의성군</td>\n",
              "      <td>행정/자치/안전</td>\n",
              "      <td>농업기술센터</td>\n",
              "      <td>08</td>\n",
              "      <td>27</td>\n",
              "      <td>오후</td>\n",
              "      <td>3:31:44</td>\n",
              "    </tr>\n",
              "    <tr>\n",
              "      <th>1</th>\n",
              "      <td>불법주정차 신고합니다</td>\n",
              "      <td>[불법, 정차, 신고]</td>\n",
              "      <td>대 불법주정차 과태료 부과 대상</td>\n",
              "      <td>[불법, 정차, 과태료, 부과, 대상]</td>\n",
              "      <td>귀하의 가정에 평안함과 행복을 기원합니다 귀하께서 국민신문고로 요청하신 사항에 대하...</td>\n",
              "      <td>[귀하, 가정, 행복, 기원, 귀하, 국민신문고, 요청, 사항, 대하, 다음, 선진...</td>\n",
              "      <td>경상북도 의성군</td>\n",
              "      <td>행정/자치/안전</td>\n",
              "      <td>일자리창출과</td>\n",
              "      <td>08</td>\n",
              "      <td>27</td>\n",
              "      <td>오후</td>\n",
              "      <td>1:49:33</td>\n",
              "    </tr>\n",
              "    <tr>\n",
              "      <th>2</th>\n",
              "      <td>아동수당 지급 대상</td>\n",
              "      <td>[아동, 수당, 지급, 대상]</td>\n",
              "      <td>아동수당 지급 대상이 궁금합니다</td>\n",
              "      <td>[아동, 수당, 지급, 대상]</td>\n",
              "      <td>안녕하십니까 귀하께서 문의하신 질의에 대한 답변을 다음과 같이 알려드립니다 귀하의 ...</td>\n",
              "      <td>[안녕하십니까, 귀하, 문의, 질의, 대한, 답변, 다음, 귀하, 질의, 내용, 아...</td>\n",
              "      <td>경상북도 의성군</td>\n",
              "      <td>행정/자치/안전</td>\n",
              "      <td>복지과</td>\n",
              "      <td>08</td>\n",
              "      <td>27</td>\n",
              "      <td>오후</td>\n",
              "      <td>4:19:51</td>\n",
              "    </tr>\n",
              "    <tr>\n",
              "      <th>3</th>\n",
              "      <td>광견병 예방 접종 관련 문의</td>\n",
              "      <td>[광견병, 예방, 접종, 관련, 문의]</td>\n",
              "      <td>광견병 예방접종 질문사항 의성군에서 광견병 접종 예방 계획이 있으신지요 있다면 기간...</td>\n",
              "      <td>[광견병, 예방접종, 질문, 사항, 의성군, 광견병, 접종, 예방, 계획, 신지, ...</td>\n",
              "      <td>안녕하십니까 귀하께서 국민신문고를 통해 신청하신 민원에 대한 검토 결과를 다음과 같...</td>\n",
              "      <td>[안녕하십니까, 귀하, 국민신문고, 통해, 신청, 민원, 대한, 검토, 결과, 다음...</td>\n",
              "      <td>경상북도 의성군</td>\n",
              "      <td>행정/자치/안전</td>\n",
              "      <td>농축산과</td>\n",
              "      <td>08</td>\n",
              "      <td>27</td>\n",
              "      <td>오후</td>\n",
              "      <td>4:18:09</td>\n",
              "    </tr>\n",
              "    <tr>\n",
              "      <th>4</th>\n",
              "      <td>아동수당 지급 금액과 지급 일자</td>\n",
              "      <td>[아동, 수당, 지급, 금액, 지급, 일자]</td>\n",
              "      <td>아동수당 지급 금액과 지급 일자가 궁금합니다</td>\n",
              "      <td>[아동, 수당, 지급, 금액, 지급, 일자]</td>\n",
              "      <td>안녕하십니까 귀하께서 문의하신 질의에 대한 답변을 다음과 같이 알려드립니다 귀하의 ...</td>\n",
              "      <td>[안녕하십니까, 귀하, 문의, 질의, 대한, 답변, 다음, 귀하, 질의, 내용, 아...</td>\n",
              "      <td>경상북도 의성군</td>\n",
              "      <td>행정/자치/안전</td>\n",
              "      <td>복지과</td>\n",
              "      <td>08</td>\n",
              "      <td>27</td>\n",
              "      <td>오후</td>\n",
              "      <td>4:24:24</td>\n",
              "    </tr>\n",
              "  </tbody>\n",
              "</table>\n",
              "</div>"
            ],
            "text/plain": [
              "                  제목                  제목_nouns  ... 오전오후       시간\n",
              "0     의성군 귀농귀촌 정책 문의     [의성군, 귀농, 귀촌, 정책, 문의]  ...   오후  3:31:44\n",
              "1        불법주정차 신고합니다              [불법, 정차, 신고]  ...   오후  1:49:33\n",
              "2         아동수당 지급 대상          [아동, 수당, 지급, 대상]  ...   오후  4:19:51\n",
              "3    광견병 예방 접종 관련 문의     [광견병, 예방, 접종, 관련, 문의]  ...   오후  4:18:09\n",
              "4  아동수당 지급 금액과 지급 일자  [아동, 수당, 지급, 금액, 지급, 일자]  ...   오후  4:24:24\n",
              "\n",
              "[5 rows x 13 columns]"
            ]
          },
          "metadata": {},
          "execution_count": 29
        }
      ]
    },
    {
      "cell_type": "code",
      "metadata": {
        "id": "XjKpaLqwqzwN"
      },
      "source": [
        ""
      ],
      "execution_count": null,
      "outputs": []
    },
    {
      "cell_type": "code",
      "metadata": {
        "id": "JSmglUDwqz1x"
      },
      "source": [
        ""
      ],
      "execution_count": null,
      "outputs": []
    }
  ]
}